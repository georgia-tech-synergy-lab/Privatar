{
 "cells": [
  {
   "cell_type": "code",
   "execution_count": null,
   "metadata": {},
   "outputs": [],
   "source": [
    "import torch\n",
    "import torch.nn as nn\n",
    "from typing import Union, List\n",
    "from torch.nn.utils import prune\n",
    "from models import DeepAppearanceVAE, WarpFieldVAE"
   ]
  },
  {
   "cell_type": "code",
   "execution_count": null,
   "metadata": {},
   "outputs": [],
   "source": [
    "@torch.no_grad()\n",
    "def channel_prune_decoder(model: nn.Module,\n",
    "                  prune_ratio: Union[List, float]) -> nn.Module:\n",
    "    \"\"\"Apply channel pruning to each of the conv layer in the backbone\n",
    "    Note that for prune_ratio, we can either provide a floating-point number,\n",
    "    indicating that we use a uniform pruning rate for all layers, or a list of\n",
    "    numbers to indicate per-layer pruning rate.\n",
    "    \"\"\"\n",
    "    model[0].conv1.deconv = prune.ln_structured(model[0].conv1.deconv, 'weight', amount=prune_ratio, dim=0, n=float('inf'))\n",
    "    model[0].conv2.deconv = prune.ln_structured(model[0].conv2.deconv, 'weight', amount=prune_ratio, dim=1, n=float('inf'))\n",
    "    \n",
    "    model[0].conv2.deconv = prune.ln_structured(model[0].conv2.deconv, 'weight', amount=prune_ratio, dim=0, n=float('inf'))\n",
    "    model[1].conv1.deconv = prune.ln_structured(model[1].conv1.deconv, 'weight', amount=prune_ratio, dim=1, n=float('inf'))\n",
    "\n",
    "    model[1].conv1.deconv = prune.ln_structured(model[1].conv1.deconv, 'weight', amount=prune_ratio, dim=0, n=float('inf'))\n",
    "    model[1].conv2.deconv = prune.ln_structured(model[1].conv2.deconv, 'weight', amount=prune_ratio, dim=1, n=float('inf'))\n",
    "\n",
    "    model[1].conv2.deconv = prune.ln_structured(model[1].conv2.deconv, 'weight', amount=prune_ratio, dim=0, n=float('inf'))\n",
    "    model[2].conv1.deconv = prune.ln_structured(model[2].conv1.deconv, 'weight', amount=prune_ratio, dim=1, n=float('inf'))\n",
    "\n",
    "    model[2].conv1.deconv = prune.ln_structured(model[2].conv1.deconv, 'weight', amount=prune_ratio, dim=0, n=float('inf'))\n",
    "    model[2].conv2.deconv = prune.ln_structured(model[2].conv2.deconv, 'weight', amount=prune_ratio, dim=1, n=float('inf'))\n",
    "\n",
    "    model[2].conv2.deconv = prune.ln_structured(model[2].conv2.deconv, 'weight', amount=prune_ratio, dim=0, n=float('inf'))\n",
    "    model[3].conv1.deconv = prune.ln_structured(model[3].conv1.deconv, 'weight', amount=prune_ratio, dim=1, n=float('inf'))\n",
    "\n",
    "    model[3].conv1.deconv = prune.ln_structured(model[3].conv1.deconv, 'weight', amount=prune_ratio, dim=0, n=float('inf'))\n",
    "    model[3].conv2.deconv = prune.ln_structured(model[3].conv2.deconv, 'weight', amount=prune_ratio, dim=1, n=float('inf'))\n",
    "    \n",
    "    return model"
   ]
  }
 ],
 "metadata": {
  "language_info": {
   "name": "python"
  }
 },
 "nbformat": 4,
 "nbformat_minor": 2
}

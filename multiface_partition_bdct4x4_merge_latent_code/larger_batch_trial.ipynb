{
 "cells": [
  {
   "cell_type": "code",
   "execution_count": 2,
   "metadata": {},
   "outputs": [],
   "source": [
    "from torch.utils.data import DataLoader, RandomSampler\n",
    "from dataset import Dataset\n",
    "import torch\n",
    "import json"
   ]
  },
  {
   "cell_type": "code",
   "execution_count": 3,
   "metadata": {},
   "outputs": [],
   "source": [
    "f = open(\"/workspace/uwing2/Privatar/multiface_partition/camera_configs/camera-split-config_6795937.json\")\n",
    "camera_config = json.load(f)"
   ]
  },
  {
   "cell_type": "code",
   "execution_count": 4,
   "metadata": {},
   "outputs": [],
   "source": [
    "camera_config = camera_config[\"full\"]"
   ]
  },
  {
   "cell_type": "code",
   "execution_count": 5,
   "metadata": {},
   "outputs": [
    {
     "name": "stdout",
     "output_type": "stream",
     "text": [
      "checking 0\n"
     ]
    }
   ],
   "source": [
    "device = torch.device(\"cuda\")\n",
    "\n",
    "dataset_train = Dataset(\n",
    "    \"/workspace/uwing2/multiface/dataset/m--20180227--0000--6795937--GHS\",\n",
    "    \"/workspace/uwing2/multiface/dataset/m--20180227--0000--6795937--GHS/KRT\",\n",
    "    # \"/workspace/uwing2/multiface/dataset/m--20180227--0000--6795937--GHS/frame_list.txt\",\n",
    "    \"/workspace/uwing2/multiface/reduced_frame_list.txt\",\n",
    "    1024,\n",
    "    camset=None if camera_config is None else camera_config[\"train\"],\n",
    "    exclude_prefix=[\"EXP_ROM\", \"EXP_free_face\"],\n",
    ")"
   ]
  },
  {
   "cell_type": "code",
   "execution_count": 6,
   "metadata": {},
   "outputs": [],
   "source": [
    "train_sampler = RandomSampler(dataset_train)"
   ]
  },
  {
   "cell_type": "code",
   "execution_count": 7,
   "metadata": {},
   "outputs": [],
   "source": [
    "train_loader1 = DataLoader(\n",
    "    dataset_train,\n",
    "    32,\n",
    "    sampler=train_sampler,\n",
    "    num_workers=0,\n",
    ")"
   ]
  },
  {
   "cell_type": "code",
   "execution_count": 8,
   "metadata": {},
   "outputs": [],
   "source": [
    "train_loader2 = DataLoader(\n",
    "    dataset_train,\n",
    "    16,\n",
    "    sampler=train_sampler,\n",
    "    num_workers=32,\n",
    "    # timeout=1e3,\n",
    ")"
   ]
  },
  {
   "cell_type": "code",
   "execution_count": 9,
   "metadata": {},
   "outputs": [],
   "source": [
    "# for i, data in enumerate(train_loader1):\n",
    "#     print(i)"
   ]
  },
  {
   "cell_type": "code",
   "execution_count": null,
   "metadata": {},
   "outputs": [],
   "source": [
    "for i, data in enumerate(train_loader2):\n",
    "    print(i)"
   ]
  }
 ],
 "metadata": {
  "kernelspec": {
   "display_name": "Python 3",
   "language": "python",
   "name": "python3"
  },
  "language_info": {
   "codemirror_mode": {
    "name": "ipython",
    "version": 3
   },
   "file_extension": ".py",
   "mimetype": "text/x-python",
   "name": "python",
   "nbconvert_exporter": "python",
   "pygments_lexer": "ipython3",
   "version": "3.10.12"
  }
 },
 "nbformat": 4,
 "nbformat_minor": 2
}

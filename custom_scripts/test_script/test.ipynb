{
 "cells": [
  {
   "cell_type": "code",
   "execution_count": 31,
   "metadata": {},
   "outputs": [],
   "source": [
    "import torch\n",
    "import torch.nn as nn\n",
    "import torch.nn.functional as F"
   ]
  },
  {
   "cell_type": "code",
   "execution_count": 32,
   "metadata": {},
   "outputs": [],
   "source": [
    "class Conv2dWN(nn.Conv2d):\n",
    "    def __init__(\n",
    "        self,\n",
    "        in_channels,\n",
    "        out_channels,\n",
    "        kernel_size,\n",
    "        stride=1,\n",
    "        padding=0,\n",
    "        dilation=1,\n",
    "        groups=1,\n",
    "        bias=True,\n",
    "    ):\n",
    "        super(Conv2dWN, self).__init__(\n",
    "            in_channels,\n",
    "            out_channels,\n",
    "            kernel_size,\n",
    "            stride,\n",
    "            padding,\n",
    "            dilation,\n",
    "            groups,\n",
    "            True,\n",
    "        )\n",
    "        self.g = nn.Parameter(torch.ones(out_channels))\n",
    "\n",
    "    def forward(self, x):\n",
    "        wnorm = torch.sqrt(torch.sum(self.weight**2))\n",
    "        return F.conv2d(\n",
    "            x,\n",
    "            self.weight * self.g[:, None, None, None] / wnorm,\n",
    "            bias=self.bias,\n",
    "            stride=self.stride,\n",
    "            padding=self.padding,\n",
    "            dilation=self.dilation,\n",
    "            groups=self.groups,\n",
    "        )"
   ]
  },
  {
   "cell_type": "code",
   "execution_count": 33,
   "metadata": {},
   "outputs": [],
   "source": [
    "class ConvDownsample(nn.Module):\n",
    "    def __init__(self, cin, chidden, cout, res=False):\n",
    "        super(ConvDownsample, self).__init__()\n",
    "        self.conv1 = Conv2dWN(cin, chidden, 4, 2, padding=1)\n",
    "        self.conv2 = Conv2dWN(chidden, cout, 4, 2, padding=1)\n",
    "        self.relu = nn.LeakyReLU(0.2, inplace=True)\n",
    "        self.res = res\n",
    "        if res:\n",
    "            self.res1 = Conv2dWN(chidden, chidden, 3, 1, 1)\n",
    "            self.res2 = Conv2dWN(cout, cout, 3, 1, 1)\n",
    "\n",
    "    def forward(self, x):\n",
    "        h = self.relu(self.conv1(x))\n",
    "        if self.res:\n",
    "            h = self.relu(self.res1(h) + h)\n",
    "        h = self.relu(self.conv2(h))\n",
    "        if self.res:\n",
    "            h = self.relu(self.res2(h) + h)\n",
    "        return h"
   ]
  },
  {
   "cell_type": "code",
   "execution_count": 34,
   "metadata": {},
   "outputs": [],
   "source": [
    "class TextureEncoder(nn.Module):\n",
    "    def __init__(self, res=False):\n",
    "        super(TextureEncoder, self).__init__()\n",
    "        self.downsample = nn.Sequential(\n",
    "            ConvDownsample(3, 16, 16, res=res),\n",
    "            ConvDownsample(16, 32, 32, res=res),\n",
    "            ConvDownsample(32, 64, 64, res=res),\n",
    "            ConvDownsample(64, 128, 128, res=res),\n",
    "        )\n",
    "\n",
    "    def forward(self, x):\n",
    "        b, c, h, w = x.shape\n",
    "        feat = self.downsample(x)\n",
    "        out = feat.view((b, -1))\n",
    "        return out\n"
   ]
  },
  {
   "cell_type": "code",
   "execution_count": 35,
   "metadata": {},
   "outputs": [],
   "source": [
    "tex_enc = TextureEncoder(False)"
   ]
  },
  {
   "cell_type": "code",
   "execution_count": 36,
   "metadata": {},
   "outputs": [],
   "source": [
    "rand_in = torch.zeros(1, 3, 1024, 1024)\n",
    "res = tex_enc(rand_in)"
   ]
  },
  {
   "cell_type": "code",
   "execution_count": 37,
   "metadata": {},
   "outputs": [
    {
     "data": {
      "text/plain": [
       "torch.Size([1, 2048])"
      ]
     },
     "execution_count": 37,
     "metadata": {},
     "output_type": "execute_result"
    }
   ],
   "source": [
    "res.shape"
   ]
  },
  {
   "cell_type": "code",
   "execution_count": 39,
   "metadata": {},
   "outputs": [
    {
     "data": {
      "text/plain": [
       "torch.Size([1, 128])"
      ]
     },
     "execution_count": 39,
     "metadata": {},
     "output_type": "execute_result"
    }
   ],
   "source": [
    "rand_in = torch.zeros(1, 3, 256, 256)\n",
    "res = tex_enc(rand_in)\n",
    "res.shape"
   ]
  },
  {
   "cell_type": "markdown",
   "metadata": {},
   "source": [
    "# Load a test input"
   ]
  },
  {
   "cell_type": "code",
   "execution_count": 1,
   "metadata": {},
   "outputs": [
    {
     "name": "stderr",
     "output_type": "stream",
     "text": [
      "/home/jianming/conda/envs/pica37/lib/python3.7/site-packages/tqdm/auto.py:21: TqdmWarning: IProgress not found. Please update jupyter and ipywidgets. See https://ipywidgets.readthedocs.io/en/stable/user_install.html\n",
      "  from .autonotebook import tqdm as notebook_tqdm\n"
     ]
    }
   ],
   "source": [
    "import torchvision.transforms as transforms\n",
    "import torch.nn.functional as F\n",
    "import matplotlib.pyplot as plt\n",
    "from torchjpeg import dct\n",
    "# from scipy.fftpack import dct, idct\n",
    "# import torch_dct as dct_2d, idct_2d\n",
    "from PIL import Image\n",
    "import os \n",
    "import numpy as np\n",
    "import torch\n",
    "import torchvision.transforms as T"
   ]
  },
  {
   "cell_type": "code",
   "execution_count": 2,
   "metadata": {},
   "outputs": [
    {
     "name": "stderr",
     "output_type": "stream",
     "text": [
      "<>:15: SyntaxWarning: assertion is always true, perhaps remove parentheses?\n",
      "<>:15: SyntaxWarning: assertion is always true, perhaps remove parentheses?\n",
      "<>:15: SyntaxWarning: assertion is always true, perhaps remove parentheses?\n",
      "/tmp/ipykernel_986637/1015576239.py:15: SyntaxWarning: assertion is always true, perhaps remove parentheses?\n",
      "  assert(x.shape[1] == 3, \"Wrong input, Channel should equals to 3\")\n"
     ]
    }
   ],
   "source": [
    "block_size = 4\n",
    "total_frequency_components = block_size * block_size\n",
    "check_reconstruct_img = True\n",
    "save_block_img_to_drive = False\n",
    "\n",
    "def load_image(image_path):\n",
    "    image = Image.open(image_path).convert('RGB')\n",
    "    transform = transforms.Compose([\n",
    "        transforms.ToTensor()\n",
    "    ])\n",
    "    return transform(image).unsqueeze(0)  # Add batch dimension \n",
    "\n",
    "def img_reorder(x, bs, ch, h, w):\n",
    "    x = (x + 1) / 2 * 255\n",
    "    assert(x.shape[1] == 3, \"Wrong input, Channel should equals to 3\")\n",
    "    x = dct.to_ycbcr(x)  # comvert RGB to YCBCR\n",
    "    x -= 128\n",
    "    x = x.view(bs * ch, 1, h, w)\n",
    "    x = F.unfold(x, kernel_size=(block_size, block_size), dilation=1, padding=0, stride=(block_size, block_size))\n",
    "    x = x.transpose(1, 2)\n",
    "    x = x.view(bs, ch, -1, block_size, block_size)\n",
    "    return x"
   ]
  },
  {
   "cell_type": "code",
   "execution_count": 29,
   "metadata": {},
   "outputs": [],
   "source": [
    "test_img_path = \"/home/jianming/work/multiface/dataset/m--20180227--0000--6795937--GHS/unwrapped_uv_1024/E001_Neutral_Eyes_Open/average/000102.png\"\n",
    "test_image_tensor = load_image(test_img_path)\n",
    "overall_img_drop_high_freq_list = []\n",
    "block_size = 4 \n",
    "total_block_num = block_size * block_size\n",
    "bs, ch, h, w = test_image_tensor.shape\n",
    "\n",
    "back_input = test_image_tensor\n",
    "rerodered_img = img_reorder(test_image_tensor, bs, ch, h, w)\n",
    "block_size = 4\n",
    "block_num = h // block_size\n",
    "dct_block = dct.block_dct(rerodered_img) #BDCT"
   ]
  },
  {
   "cell_type": "code",
   "execution_count": 30,
   "metadata": {},
   "outputs": [
    {
     "data": {
      "text/plain": [
       "torch.Size([1, 3, 65536, 4, 4])"
      ]
     },
     "execution_count": 30,
     "metadata": {},
     "output_type": "execute_result"
    }
   ],
   "source": [
    "dct_block.shape"
   ]
  },
  {
   "cell_type": "code",
   "execution_count": 8,
   "metadata": {},
   "outputs": [],
   "source": [
    "dct_block_reorder = dct_block.view(bs, ch, block_num, block_num, total_frequency_components) "
   ]
  },
  {
   "cell_type": "code",
   "execution_count": 9,
   "metadata": {},
   "outputs": [
    {
     "data": {
      "text/plain": [
       "torch.Size([1, 3, 256, 256, 16])"
      ]
     },
     "execution_count": 9,
     "metadata": {},
     "output_type": "execute_result"
    }
   ],
   "source": [
    "dct_block_reorder.shape"
   ]
  },
  {
   "cell_type": "code",
   "execution_count": 11,
   "metadata": {},
   "outputs": [
    {
     "data": {
      "text/plain": [
       "torch.Size([1, 3, 256, 256])"
      ]
     },
     "execution_count": 11,
     "metadata": {},
     "output_type": "execute_result"
    }
   ],
   "source": [
    "dct_block_reorder[:,:,:,:,0].shape"
   ]
  },
  {
   "cell_type": "markdown",
   "metadata": {},
   "source": [
    "# LinearWN"
   ]
  },
  {
   "cell_type": "code",
   "execution_count": 16,
   "metadata": {},
   "outputs": [],
   "source": [
    "class LinearWN(nn.Linear):\n",
    "    def __init__(self, in_features, out_features, bias=True):\n",
    "        super(LinearWN, self).__init__(in_features, out_features, bias)\n",
    "        self.g = nn.Parameter(torch.ones(out_features))\n",
    "\n",
    "    def forward(self, input):\n",
    "        wnorm = torch.sqrt(torch.sum(self.weight**2))\n",
    "        return F.linear(input, self.weight * self.g[:, None] / wnorm, self.bias)"
   ]
  },
  {
   "cell_type": "code",
   "execution_count": 17,
   "metadata": {},
   "outputs": [],
   "source": [
    "ntexture_feat = 2048\n",
    "texture_fc = LinearWN(ntexture_feat, 256)"
   ]
  },
  {
   "cell_type": "code",
   "execution_count": 18,
   "metadata": {},
   "outputs": [
    {
     "data": {
      "text/plain": [
       "2048"
      ]
     },
     "execution_count": 18,
     "metadata": {},
     "output_type": "execute_result"
    }
   ],
   "source": [
    "texture_fc.in_features"
   ]
  },
  {
   "cell_type": "code",
   "execution_count": 25,
   "metadata": {},
   "outputs": [],
   "source": [
    "digest_tex = torch.empty(1, texture_fc.in_features)"
   ]
  },
  {
   "cell_type": "code",
   "execution_count": 40,
   "metadata": {},
   "outputs": [],
   "source": [
    "rand_in = torch.zeros(1, 3, 256, 256)\n",
    "res = tex_enc(rand_in)\n",
    "i=0\n",
    "digest_tex[0, i*128 : (i+1)*128] = res"
   ]
  },
  {
   "cell_type": "markdown",
   "metadata": {},
   "source": [
    "# Test tex decoder (Original Structure)"
   ]
  },
  {
   "cell_type": "code",
   "execution_count": 41,
   "metadata": {},
   "outputs": [],
   "source": [
    "class ConvTranspose2dWN(nn.ConvTranspose2d):\n",
    "    def __init__(\n",
    "        self,\n",
    "        in_channels,\n",
    "        out_channels,\n",
    "        kernel_size,\n",
    "        stride=1,\n",
    "        padding=0,\n",
    "        dilation=1,\n",
    "        groups=1,\n",
    "        bias=True,\n",
    "    ):\n",
    "        super(ConvTranspose2dWN, self).__init__(\n",
    "            in_channels,\n",
    "            out_channels,\n",
    "            kernel_size,\n",
    "            stride,\n",
    "            padding,\n",
    "            dilation,\n",
    "            groups,\n",
    "            True,\n",
    "        )\n",
    "        self.g = nn.Parameter(torch.ones(out_channels))\n",
    "\n",
    "    def forward(self, x):\n",
    "        wnorm = torch.sqrt(torch.sum(self.weight**2))\n",
    "        return F.conv_transpose2d(\n",
    "            x,\n",
    "            self.weight * self.g[None, :, None, None] / wnorm,\n",
    "            bias=self.bias,\n",
    "            stride=self.stride,\n",
    "            padding=self.padding,\n",
    "            dilation=self.dilation,\n",
    "            groups=self.groups,\n",
    "        )\n",
    "    \n",
    "class DeconvTexelBias(nn.Module):\n",
    "    def __init__(\n",
    "        self,\n",
    "        cin,\n",
    "        cout,\n",
    "        feature_size,\n",
    "        ksize=4,\n",
    "        stride=2,\n",
    "        padding=1,\n",
    "        use_bilinear=False,\n",
    "        non=False,\n",
    "    ):\n",
    "        super(DeconvTexelBias, self).__init__()\n",
    "        if isinstance(feature_size, int):\n",
    "            feature_size = (feature_size, feature_size)\n",
    "        self.use_bilinear = use_bilinear\n",
    "        if use_bilinear:\n",
    "            self.deconv = Conv2dWN(cin, cout, 3, 1, 1, bias=False)\n",
    "        else:\n",
    "            self.deconv = ConvTranspose2dWN(\n",
    "                cin, cout, ksize, stride, padding, bias=False\n",
    "            )\n",
    "        if non:\n",
    "            self.bias = nn.Parameter(torch.zeros(1, cout, 1, 1))\n",
    "        else:\n",
    "            self.bias = nn.Parameter(\n",
    "                torch.zeros(1, cout, feature_size[0], feature_size[1])\n",
    "            )\n",
    "\n",
    "    def forward(self, x):\n",
    "        if self.use_bilinear:\n",
    "            x = F.interpolate(x, scale_factor=2)\n",
    "        out = self.deconv(x) + self.bias\n",
    "        return out\n",
    "    \n",
    "class ConvUpsample(nn.Module):\n",
    "    def __init__(\n",
    "        self,\n",
    "        cin,\n",
    "        chidden,\n",
    "        cout,\n",
    "        feature_size,\n",
    "        no_activ=False,\n",
    "        res=False,\n",
    "        use_bilinear=False,\n",
    "        non=False,\n",
    "    ):\n",
    "        super(ConvUpsample, self).__init__()\n",
    "        self.conv1 = DeconvTexelBias(\n",
    "            cin, chidden, feature_size * 2, use_bilinear=use_bilinear, non=non\n",
    "        )\n",
    "        self.conv2 = DeconvTexelBias(\n",
    "            chidden, cout, feature_size * 4, use_bilinear=use_bilinear, non=non\n",
    "        )\n",
    "        self.relu = nn.LeakyReLU(0.2, inplace=True)\n",
    "        self.no_activ = no_activ\n",
    "        self.res = res\n",
    "        if self.res:\n",
    "            self.res1 = Conv2dWN(chidden, chidden, 3, 1, 1)\n",
    "            self.res2 = Conv2dWN(cout, cout, 3, 1, 1)\n",
    "\n",
    "    def forward(self, x):\n",
    "        h = self.relu(self.conv1(x))\n",
    "        if self.res:\n",
    "            h = self.relu(self.res1(h) + h)\n",
    "        if self.no_activ:\n",
    "            h = self.conv2(h)\n",
    "            if self.res:\n",
    "                h = self.res2(h) + h\n",
    "        else:\n",
    "            h = self.relu(self.conv2(h))\n",
    "            if self.res:\n",
    "                h = self.relu(self.res2(h) + h)\n",
    "        return h\n",
    "\n",
    "\n",
    "class TextureDecoder(nn.Module):\n",
    "    def __init__(self, tex_size, z_dim, res=False, non=False, bilinear=False):\n",
    "        super(TextureDecoder, self).__init__()\n",
    "        base = 2 if tex_size == 512 else 4\n",
    "        self.z_dim = z_dim\n",
    "\n",
    "        self.upsample = nn.Sequential(\n",
    "            ConvUpsample(\n",
    "                z_dim, z_dim, 64, base, res=res, use_bilinear=bilinear, non=non\n",
    "            ),\n",
    "            ConvUpsample(\n",
    "                64, 64, 32, base * (2**2), res=res, use_bilinear=bilinear, non=non\n",
    "            ),\n",
    "            ConvUpsample(\n",
    "                32, 32, 16, base * (2**4), res=res, use_bilinear=bilinear, non=non\n",
    "            ),\n",
    "            ConvUpsample(\n",
    "                16,\n",
    "                16,\n",
    "                3,\n",
    "                base * (2**6),\n",
    "                no_activ=True,\n",
    "                res=res,\n",
    "                use_bilinear=bilinear,\n",
    "                non=non,\n",
    "            ),\n",
    "        )\n",
    "\n",
    "    def forward(self, x):\n",
    "        b, n = x.shape\n",
    "        h = int(np.sqrt(n / self.z_dim))\n",
    "        x = x.view((-1, self.z_dim, h, h))\n",
    "        out = self.upsample(x)\n",
    "        return out"
   ]
  },
  {
   "cell_type": "code",
   "execution_count": 60,
   "metadata": {},
   "outputs": [],
   "source": [
    "dec_texture_decoder = TextureDecoder(\n",
    "            1024, 128, res=None, non=True, bilinear=False\n",
    "        )"
   ]
  },
  {
   "cell_type": "code",
   "execution_count": 61,
   "metadata": {},
   "outputs": [
    {
     "data": {
      "text/plain": [
       "torch.Size([1, 64, 4, 4])"
      ]
     },
     "execution_count": 61,
     "metadata": {},
     "output_type": "execute_result"
    }
   ],
   "source": [
    "dec_texture_decoder.upsample[0](torch.zeros(1,128,1,1)).shape"
   ]
  },
  {
   "cell_type": "code",
   "execution_count": 62,
   "metadata": {},
   "outputs": [
    {
     "data": {
      "text/plain": [
       "torch.Size([1, 3, 256, 256])"
      ]
     },
     "execution_count": 62,
     "metadata": {},
     "output_type": "execute_result"
    }
   ],
   "source": [
    "dec_texture_decoder(torch.zeros(1,128)).shape"
   ]
  },
  {
   "cell_type": "markdown",
   "metadata": {},
   "source": [
    "# Encoder"
   ]
  },
  {
   "cell_type": "code",
   "execution_count": 77,
   "metadata": {},
   "outputs": [],
   "source": [
    "class TextureEncoderLimitDepth(nn.Module):\n",
    "    def __init__(self, res=False):\n",
    "        super(TextureEncoderLimitDepth, self).__init__()\n",
    "        self.downsample = nn.Sequential(\n",
    "            ConvDownsample(3, 16, 16, res=res),\n",
    "            ConvDownsample(16, 32, 32, res=res),\n",
    "            ConvDownsample(32, 64, 64, res=res),\n",
    "            # ConvDownsample(64, 128, 128, res=res),\n",
    "        )\n",
    "\n",
    "    def forward(self, x):\n",
    "        b, c, h, w = x.shape\n",
    "        feat = self.downsample(x)\n",
    "        # out = feat.view((b, -1))\n",
    "        return feat"
   ]
  },
  {
   "cell_type": "code",
   "execution_count": 78,
   "metadata": {},
   "outputs": [],
   "source": [
    "tex_enc = TextureEncoderLimitDepth(False)"
   ]
  },
  {
   "cell_type": "code",
   "execution_count": 79,
   "metadata": {},
   "outputs": [],
   "source": [
    "# rand_in = torch.zeros(1, 3, 1024, 1024)\n",
    "rand_in = torch.zeros(1, 3, 256, 256)\n",
    "res = tex_enc(rand_in)"
   ]
  },
  {
   "cell_type": "code",
   "execution_count": 80,
   "metadata": {},
   "outputs": [
    {
     "data": {
      "text/plain": [
       "torch.Size([1, 64, 4, 4])"
      ]
     },
     "execution_count": 80,
     "metadata": {},
     "output_type": "execute_result"
    }
   ],
   "source": [
    "res.shape"
   ]
  },
  {
   "cell_type": "markdown",
   "metadata": {},
   "source": [
    "# Test Decoder with limited channel"
   ]
  },
  {
   "cell_type": "code",
   "execution_count": 101,
   "metadata": {},
   "outputs": [],
   "source": [
    "class TextureDecoderLayerRed(nn.Module):\n",
    "    def __init__(self, tex_size, z_dim, res=False, non=True, bilinear=False):\n",
    "        super(TextureDecoderLayerRed, self).__init__()\n",
    "        base = 2 if tex_size == 512 else 4\n",
    "        self.z_dim = z_dim\n",
    "\n",
    "        self.upsample = nn.Sequential(\n",
    "            # ConvUpsample(\n",
    "            #     z_dim, z_dim, 64, base, res=res, use_bilinear=bilinear, non=non\n",
    "            # ),\n",
    "            ConvUpsample(\n",
    "                64, 64, 32, base, res=res, use_bilinear=bilinear, non=non\n",
    "            ),\n",
    "            ConvUpsample(\n",
    "                32, 32, 16, base * (2**2), res=res, use_bilinear=bilinear, non=non\n",
    "            ),\n",
    "            ConvUpsample(\n",
    "                16,\n",
    "                16,\n",
    "                3,\n",
    "                base * (2**4),\n",
    "                no_activ=True,\n",
    "                res=res,\n",
    "                use_bilinear=bilinear,\n",
    "                non=non,\n",
    "            ),\n",
    "        )\n",
    "\n",
    "    def forward(self, x):\n",
    "        b, n = x.shape\n",
    "        h = int(np.sqrt(n / self.z_dim))\n",
    "        x = x.view((-1, self.z_dim, h, h))\n",
    "        out = self.upsample(x)\n",
    "        return out"
   ]
  },
  {
   "cell_type": "code",
   "execution_count": 102,
   "metadata": {},
   "outputs": [],
   "source": [
    "DecLayerRed = TextureDecoderLayerRed(1024, 64, res=False, non=True, bilinear=False)"
   ]
  },
  {
   "cell_type": "code",
   "execution_count": 103,
   "metadata": {},
   "outputs": [
    {
     "data": {
      "text/plain": [
       "torch.Size([1, 3, 256, 256])"
      ]
     },
     "execution_count": 103,
     "metadata": {},
     "output_type": "execute_result"
    }
   ],
   "source": [
    "DecLayerRed(torch.zeros(1, 64*4*4)).shape"
   ]
  }
 ],
 "metadata": {
  "kernelspec": {
   "display_name": "ofa",
   "language": "python",
   "name": "python3"
  },
  "language_info": {
   "codemirror_mode": {
    "name": "ipython",
    "version": 3
   },
   "file_extension": ".py",
   "mimetype": "text/x-python",
   "name": "python",
   "nbconvert_exporter": "python",
   "pygments_lexer": "ipython3",
   "version": "3.7.16"
  }
 },
 "nbformat": 4,
 "nbformat_minor": 2
}

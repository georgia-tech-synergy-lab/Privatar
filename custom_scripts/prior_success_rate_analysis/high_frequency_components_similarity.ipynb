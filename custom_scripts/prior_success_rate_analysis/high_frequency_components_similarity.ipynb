{
 "cells": [
  {
   "cell_type": "code",
   "execution_count": 3,
   "metadata": {},
   "outputs": [
    {
     "name": "stderr",
     "output_type": "stream",
     "text": [
      "/home/jianming/conda/envs/pica37/lib/python3.7/site-packages/tqdm/auto.py:21: TqdmWarning: IProgress not found. Please update jupyter and ipywidgets. See https://ipywidgets.readthedocs.io/en/stable/user_install.html\n",
      "  from .autonotebook import tqdm as notebook_tqdm\n"
     ]
    }
   ],
   "source": [
    "import torchvision.transforms as transforms\n",
    "import torch.nn.functional as F\n",
    "import matplotlib.pyplot as plt\n",
    "from torchjpeg import dct\n",
    "from PIL import Image\n",
    "import seaborn as sns\n",
    "import numpy as np\n",
    "import torch\n",
    "import math\n",
    "import cv2\n",
    "import os"
   ]
  },
  {
   "cell_type": "code",
   "execution_count": 4,
   "metadata": {},
   "outputs": [
    {
     "name": "stderr",
     "output_type": "stream",
     "text": [
      "<>:15: SyntaxWarning: assertion is always true, perhaps remove parentheses?\n",
      "<>:37: SyntaxWarning: assertion is always true, perhaps remove parentheses?\n",
      "<>:15: SyntaxWarning: assertion is always true, perhaps remove parentheses?\n",
      "<>:37: SyntaxWarning: assertion is always true, perhaps remove parentheses?\n",
      "<>:15: SyntaxWarning: assertion is always true, perhaps remove parentheses?\n",
      "<>:37: SyntaxWarning: assertion is always true, perhaps remove parentheses?\n",
      "/tmp/ipykernel_365683/470356363.py:15: SyntaxWarning: assertion is always true, perhaps remove parentheses?\n",
      "  assert(x.shape[1] == 3, \"Wrong input, Channel should equals to 3\")\n",
      "/tmp/ipykernel_365683/470356363.py:37: SyntaxWarning: assertion is always true, perhaps remove parentheses?\n",
      "  assert(downsample_img.shape == freq_block[:,:,0,:,:].shape, \"downsample input shape does not match the shape of post-BDCT component\")\n"
     ]
    }
   ],
   "source": [
    "block_size = 4\n",
    "total_frequency_component = block_size * block_size\n",
    "\n",
    "overall_img_path_list = []\n",
    "path_prefix = \"/home/jianming/work/multiface/dataset/m--20180227--0000--6795937--GHS/unwrapped_uv_1024/\"\n",
    "all_dir = os.listdir(path_prefix)\n",
    "# print(all_dir)\n",
    "for sgl_dir in all_dir:\n",
    "    path_average = os.path.join(path_prefix + sgl_dir, \"average\")\n",
    "        # print(os.path.join(path_average, image))\n",
    "    overall_img_path_list.append(os.path.join(path_average, os.listdir(path_average)[0]))\n",
    "    \n",
    "def img_reorder(x, bs, ch, h, w):\n",
    "    x = (x + 1) / 2 * 255\n",
    "    assert(x.shape[1] == 3, \"Wrong input, Channel should equals to 3\")\n",
    "    x = dct.to_ycbcr(x)  # comvert RGB to YCBCR\n",
    "    x -= 128\n",
    "    x = x.view(bs * ch, 1, h, w)\n",
    "    x = F.unfold(x, kernel_size=(block_size, block_size), dilation=1, padding=0, stride=(block_size, block_size))\n",
    "    x = x.transpose(1, 2)\n",
    "    x = x.view(bs, ch, -1, block_size, block_size)\n",
    "    return x\n",
    "\n",
    "## Image reordering and testing\n",
    "def img_inverse_reroder(coverted_img, bs, ch, h, w):\n",
    "    x = coverted_img.view(bs* ch, -1, total_frequency_component)\n",
    "    x = x.transpose(1, 2)\n",
    "    x = F.fold(x, output_size=(h, w), kernel_size=(block_size, block_size), stride=(block_size, block_size))\n",
    "    x += 128\n",
    "    x = x.view(bs, ch, h, w)\n",
    "    x = dct.to_rgb(x)#.squeeze(0)\n",
    "    x = (x / 255.0) * 2 - 1\n",
    "    return x\n",
    "\n",
    "def calculate_block_mse(downsample_in, freq_block, num_freq_component=block_size):\n",
    "    downsample_img = transforms.Resize(size=int(downsample_in.shape[-1]/num_freq_component))(downsample_in)\n",
    "    assert(downsample_img.shape == freq_block[:,:,0,:,:].shape, \"downsample input shape does not match the shape of post-BDCT component\")\n",
    "    loss_vector = torch.zeros(freq_block.shape[2])\n",
    "    for i in range(freq_block.shape[2]):\n",
    "        # calculate the MSE between each frequency components and given input downsampled images\n",
    "        loss_vector[i] = F.mse_loss(downsample_img, freq_block[:,:,i,:,:])\n",
    "    return loss_vector\n",
    "\n",
    "def bdct_4x4(img_path):\n",
    "    # The original input image comes with it and I disable it to reduce the computation overhead.\n",
    "    # x = F.interpolate(x, scale_factor=8, mode='bilinear', align_corners=True)\n",
    "    image = Image.open(img_path).convert('RGB')\n",
    "    transform = transforms.Compose([\n",
    "        transforms.ToTensor()\n",
    "    ])\n",
    "    x = transform(image).unsqueeze(0)\n",
    "\n",
    "    back_input = x\n",
    "    bs, ch, h, w = x.shape\n",
    "    block_num = h // block_size\n",
    "    x = img_reorder(x, bs, ch, h, w)\n",
    "    dct_block = dct.block_dct(x) # BDCT\n",
    "    dct_block_reorder = dct_block.view(bs, ch, block_num, block_num, total_frequency_component).permute(0, 1, 4, 2, 3) # into (bs, ch, 64, block_num, block_num)\n",
    "\n",
    "    return  dct_block_reorder\n",
    "\n",
    "def private_freq_component_thres_based_selection(img_path, mse_threshold):\n",
    "    # The original input image comes with it and I disable it to reduce the computation overhead.\n",
    "    # x = F.interpolate(x, scale_factor=8, mode='bilinear', align_corners=True)\n",
    "    image = Image.open(img_path).convert('RGB')\n",
    "    transform = transforms.Compose([\n",
    "        transforms.ToTensor()\n",
    "    ])\n",
    "    x = transform(image).unsqueeze(0)\n",
    "\n",
    "    back_input = x\n",
    "    bs, ch, h, w = x.shape\n",
    "    block_num = h // block_size\n",
    "    x = img_reorder(x, bs, ch, h, w)\n",
    "    dct_block = dct.block_dct(x) # BDCT\n",
    "    dct_block_reorder = dct_block.view(bs, ch, block_num, block_num, total_frequency_component).permute(0, 1, 4, 2, 3) # into (bs, ch, 64, block_num, block_num)\n",
    "    loss_vector = calculate_block_mse(back_input, dct_block_reorder)\n",
    "    # Split all component based on the frequency\n",
    "    private_idx = torch.where(loss_vector > mse_threshold)[0]\n",
    "    public_idx = []\n",
    "    all_possible_idx = [i for i in range(total_frequency_component)]\n",
    "    for element in all_possible_idx:\n",
    "        if element not in private_idx:\n",
    "            public_idx.append(element)\n",
    "\n",
    "    return private_idx,  torch.Tensor(public_idx).to(torch.int64), dct_block_reorder"
   ]
  },
  {
   "cell_type": "markdown",
   "metadata": {},
   "source": [
    "# Obtain User 1 -- highest frequency components"
   ]
  },
  {
   "cell_type": "code",
   "execution_count": 5,
   "metadata": {},
   "outputs": [],
   "source": [
    "overall_img_path_list = []\n",
    "path_prefix = \"/home/jianming/work/multiface/dataset/m--20180227--0000--6795937--GHS/unwrapped_uv_1024/\"\n",
    "all_dir = os.listdir(path_prefix)\n",
    "for sgl_dir in all_dir:\n",
    "    path_average = os.path.join(path_prefix + sgl_dir, \"average\")\n",
    "    overall_img_path_list.append(os.path.join(path_average, os.listdir(path_average)[0]))"
   ]
  },
  {
   "cell_type": "code",
   "execution_count": 6,
   "metadata": {},
   "outputs": [],
   "source": [
    "highest_frequency_components_list = []\n",
    "for img_path in overall_img_path_list:\n",
    "    img_blocks = bdct_4x4(img_path)\n",
    "    highest_frequency_components_list.append(img_blocks[:,:,-1,:,:])"
   ]
  },
  {
   "cell_type": "code",
   "execution_count": 7,
   "metadata": {},
   "outputs": [],
   "source": [
    "# L2 norm among highest frequency components after BDCT decomposition\n",
    "num_images = len(highest_frequency_components_list)\n",
    "\n",
    "l2_norm_expression_list = np.zeros((len(highest_frequency_components_list),len(highest_frequency_components_list)))\n",
    "for i in range(num_images):\n",
    "    for j in range(num_images):\n",
    "        l2_norm_expression_list[i][j] = np.linalg.norm(highest_frequency_components_list[i] - highest_frequency_components_list[j])"
   ]
  },
  {
   "cell_type": "code",
   "execution_count": 6,
   "metadata": {},
   "outputs": [
    {
     "data": {
      "text/plain": [
       "(array([2., 0., 0., ..., 0., 0., 2.]),\n",
       " array([161.07901001, 161.14125002, 161.20349002, ..., 285.43454099,\n",
       "        285.49678099, 285.559021  ]),\n",
       " <BarContainer object of 2000 artists>)"
      ]
     },
     "execution_count": 6,
     "metadata": {},
     "output_type": "execute_result"
    },
    {
     "data": {
      "image/png": "[encoded data removed]",
      "text/plain": [
       "<Figure size 640x480 with 1 Axes>"
      ]
     },
     "metadata": {},
     "output_type": "display_data"
    }
   ],
   "source": [
    "import matplotlib.pyplot as plt\n",
    "(row, col) = np.nonzero(l2_norm_expression_list)\n",
    "l2_norm_non_zero_expression_list = l2_norm_expression_list[row, col]\n",
    "plt.hist(l2_norm_non_zero_expression_list, bins=2000)"
   ]
  },
  {
   "cell_type": "code",
   "execution_count": 18,
   "metadata": {},
   "outputs": [
    {
     "data": {
      "text/plain": [
       "(array([2., 0., 0., ..., 0., 0., 2.]),\n",
       " array([0.13197051, 0.1321119 , 0.13225329, ..., 0.41447149, 0.41461288,\n",
       "        0.41475427]),\n",
       " <BarContainer object of 2000 artists>)"
      ]
     },
     "execution_count": 18,
     "metadata": {},
     "output_type": "execute_result"
    },
    {
     "data": {
      "image/png": "[encoded data removed]",
      "text/plain": [
       "<Figure size 640x480 with 1 Axes>"
      ]
     },
     "metadata": {},
     "output_type": "display_data"
    }
   ],
   "source": [
    "num_images = len(highest_frequency_components_list)\n",
    "\n",
    "mse_expression_list = np.zeros((len(highest_frequency_components_list),len(highest_frequency_components_list)))\n",
    "for i in range(num_images):\n",
    "    for j in range(num_images):\n",
    "        mse_expression_list[i][j] = np.square(highest_frequency_components_list[i] - highest_frequency_components_list[j]).mean()\n",
    "        \n",
    "mse_expression_array = np.array(mse_expression_list)\n",
    "\n",
    "import matplotlib.pyplot as plt\n",
    "(row, col) = np.nonzero(mse_expression_list)\n",
    "mse_non_zero_expression_list = mse_expression_array[row, col]\n",
    "plt.hist(mse_non_zero_expression_list, bins=2000)"
   ]
  },
  {
   "cell_type": "markdown",
   "metadata": {},
   "source": [
    "# Obtain User 2 -- highest frequency components"
   ]
  },
  {
   "cell_type": "code",
   "execution_count": 9,
   "metadata": {},
   "outputs": [],
   "source": [
    "overall_img_path_list2 = []\n",
    "path_prefix2 = \"/scratch1/jianming/multiface/dataset/m--20180226--0000--6674443--GHS/unwrapped_uv_1024/\"\n",
    "all_dir = os.listdir(path_prefix2)\n",
    "for sgl_dir in all_dir:\n",
    "    path_average2 = os.path.join(path_prefix2 + sgl_dir, \"average\")\n",
    "    overall_img_path_list2.append(os.path.join(path_average2, os.listdir(path_average2)[0]))"
   ]
  },
  {
   "cell_type": "code",
   "execution_count": 10,
   "metadata": {},
   "outputs": [],
   "source": [
    "highest_frequency_components_list2 = []\n",
    "for img_path in overall_img_path_list2:\n",
    "    img_blocks = bdct_4x4(img_path)\n",
    "    highest_frequency_components_list2.append(img_blocks[:,:,-1,:,:])"
   ]
  },
  {
   "cell_type": "code",
   "execution_count": 11,
   "metadata": {},
   "outputs": [],
   "source": [
    "# L2 norm among highest frequency components after BDCT decomposition\n",
    "num_images = len(highest_frequency_components_list2)\n",
    "\n",
    "l2_norm_expression_list2 = np.zeros((len(highest_frequency_components_list2),len(highest_frequency_components_list2)))\n",
    "for i in range(num_images):\n",
    "    for j in range(num_images):\n",
    "        l2_norm_expression_list2[i][j] = np.linalg.norm(highest_frequency_components_list2[i] - highest_frequency_components_list2[j])"
   ]
  },
  {
   "cell_type": "code",
   "execution_count": 17,
   "metadata": {},
   "outputs": [
    {
     "data": {
      "text/plain": [
       "(array([2., 0., 0., ..., 0., 0., 2.]),\n",
       " array([176.69187927, 176.72934146, 176.76680365, ..., 251.54133234,\n",
       "        251.57879453, 251.61625671]),\n",
       " <BarContainer object of 2000 artists>)"
      ]
     },
     "execution_count": 17,
     "metadata": {},
     "output_type": "execute_result"
    },
    {
     "data": {
      "image/png": "[encoded data removed]",
      "text/plain": [
       "<Figure size 640x480 with 1 Axes>"
      ]
     },
     "metadata": {},
     "output_type": "display_data"
    }
   ],
   "source": [
    "import matplotlib.pyplot as plt\n",
    "(row, col) = np.nonzero(l2_norm_expression_list2)\n",
    "l2_norm_non_zero_expression_list = l2_norm_expression_list2[row, col]\n",
    "plt.hist(l2_norm_non_zero_expression_list, bins=2000)"
   ]
  },
  {
   "cell_type": "markdown",
   "metadata": {},
   "source": [
    "# Calculating Among Users"
   ]
  },
  {
   "cell_type": "code",
   "execution_count": 12,
   "metadata": {},
   "outputs": [],
   "source": [
    "highest_frequency_components_overall = highest_frequency_components_list + highest_frequency_components_list2\n",
    "# L2 norm among highest frequency components after BDCT decomposition\n",
    "num_images = len(highest_frequency_components_overall)\n",
    "\n",
    "l2_norm_expression_list_overall = np.zeros((len(highest_frequency_components_overall),len(highest_frequency_components_overall)))\n",
    "for i in range(num_images):\n",
    "    for j in range(num_images):\n",
    "        l2_norm_expression_list_overall[i][j] = np.linalg.norm(highest_frequency_components_overall[i] - highest_frequency_components_overall[j])"
   ]
  },
  {
   "cell_type": "code",
   "execution_count": 18,
   "metadata": {},
   "outputs": [
    {
     "data": {
      "text/plain": [
       "torch.Size([1, 3, 256, 256])"
      ]
     },
     "execution_count": 18,
     "metadata": {},
     "output_type": "execute_result"
    }
   ],
   "source": [
    "highest_frequency_components_overall[0].shape"
   ]
  },
  {
   "cell_type": "code",
   "execution_count": 12,
   "metadata": {},
   "outputs": [
    {
     "data": {
      "image/png": "[encoded data removed]",
      "text/plain": [
       "<Figure size 640x480 with 1 Axes>"
      ]
     },
     "metadata": {},
     "output_type": "display_data"
    }
   ],
   "source": [
    "import matplotlib.pyplot as plt\n",
    "(row, col) = np.nonzero(l2_norm_expression_list_overall)\n",
    "l2_norm_non_zero_expression_list_overall = l2_norm_expression_list_overall[row, col]\n",
    "plt.hist(l2_norm_non_zero_expression_list_overall, bins=2000)\n",
    "\n",
    "SMALL_SIZE = 18\n",
    "MEDIUM_SIZE = 20\n",
    "BIGGER_SIZE = 22\n",
    "\n",
    "plt.ylabel(\"Probability Distribution\", fontsize=SMALL_SIZE)\n",
    "plt.xlabel(\"L2 Norm Value\", fontsize=SMALL_SIZE)\n",
    "# plt.xticks([i for i in range(int(max(tflop_list)+1))], [str(i) for i in range(int(max(tflop_list)+1))], fontsize=MEDIUM_SIZE)\n",
    "# plt.title(\"Scores by Teams in 4 Rounds\")\n",
    "\n",
    "# plt.legend([\"zcu104\", 'Alveo U280'])#, fontsize=SMALL_SIZE)\n",
    "plt.rc('font', size=BIGGER_SIZE)          # controls default text sizes\n",
    "plt.rc('axes', titlesize=BIGGER_SIZE)     # fontsize of the axes title\n",
    "plt.rc('axes', labelsize=BIGGER_SIZE)    # fontsize of the x and y labels\n",
    "plt.rc('xtick', labelsize=BIGGER_SIZE)    # fontsize of the tick labels\n",
    "plt.rc('ytick', labelsize=BIGGER_SIZE)    # fontsize of the tick labels\n",
    "plt.rc('legend', fontsize=BIGGER_SIZE)    # legend fontsize\n",
    "\n",
    "plt.savefig('L2_norm_of_high_frequency_component.pdf', bbox_inches=\"tight\", transparent=True) \n",
    "\n",
    "plt.show()"
   ]
  },
  {
   "cell_type": "code",
   "execution_count": null,
   "metadata": {},
   "outputs": [],
   "source": [
    "# Calculate the difference between high frequency components of two users and downsample images of the original expressions."
   ]
  },
  {
   "cell_type": "markdown",
   "metadata": {},
   "source": [
    "# Calculate Adversarial Successful Rtae"
   ]
  },
  {
   "cell_type": "code",
   "execution_count": 19,
   "metadata": {},
   "outputs": [],
   "source": [
    "# User 1\n",
    "overall_img_path_list = []\n",
    "path_prefix = \"/home/jianming/work/multiface/dataset/m--20180227--0000--6795937--GHS/unwrapped_uv_1024/\"\n",
    "all_dir = os.listdir(path_prefix)\n",
    "for sgl_dir in all_dir:\n",
    "    path_average = os.path.join(path_prefix + sgl_dir, \"average\")\n",
    "    overall_img_path_list.append(os.path.join(path_average, os.listdir(path_average)[0]))\n",
    "\n",
    "highest_frequency_components_list = []\n",
    "for img_path in overall_img_path_list:\n",
    "    img_blocks = bdct_4x4(img_path)\n",
    "    highest_frequency_components_list.append(img_blocks[:,:,-1,:,:])\n",
    "\n",
    "\n",
    "# User 2\n",
    "overall_img_path_list2 = []\n",
    "path_prefix2 = \"/scratch1/jianming/multiface/dataset/m--20180226--0000--6674443--GHS/unwrapped_uv_1024/\"\n",
    "all_dir = os.listdir(path_prefix2)\n",
    "for sgl_dir in all_dir:\n",
    "    path_average2 = os.path.join(path_prefix2 + sgl_dir, \"average\")\n",
    "    overall_img_path_list2.append(os.path.join(path_average2, os.listdir(path_average2)[0]))\n",
    "\n",
    "highest_frequency_components_list2 = []\n",
    "for img_path in overall_img_path_list2:\n",
    "    img_blocks = bdct_4x4(img_path)\n",
    "    highest_frequency_components_list2.append(img_blocks[:,:,-1,:,:])\n",
    "\n",
    "\n",
    "# Two users\n",
    "highest_frequency_components_overall = highest_frequency_components_list + highest_frequency_components_list2\n",
    "num_images = len(highest_frequency_components_overall)"
   ]
  },
  {
   "cell_type": "code",
   "execution_count": 20,
   "metadata": {},
   "outputs": [],
   "source": [
    "downsample_shape = 4 # which should be the block size\n",
    "\n",
    "# User 1\n",
    "overall_img_path_list = []\n",
    "path_prefix = \"/home/jianming/work/multiface/dataset/m--20180227--0000--6795937--GHS/unwrapped_uv_1024/\"\n",
    "all_dir = os.listdir(path_prefix)\n",
    "for sgl_dir in all_dir:\n",
    "    path_average = os.path.join(path_prefix + sgl_dir, \"average\")\n",
    "    overall_img_path_list.append(os.path.join(path_average, os.listdir(path_average)[0]))\n",
    "\n",
    "downsample_list = []\n",
    "for img_path in overall_img_path_list:\n",
    "    image = Image.open(img_path).convert('RGB')\n",
    "    transform = transforms.Compose([\n",
    "        transforms.ToTensor()\n",
    "    ])\n",
    "    x = transform(image).unsqueeze(0)\n",
    "    downsample_img = transforms.Resize(size=int(x.shape[-1]/downsample_shape))(x)\n",
    "    downsample_list.append(downsample_img)\n",
    "\n",
    "\n",
    "# User 2\n",
    "overall_img_path_list2 = []\n",
    "path_prefix2 = \"/scratch1/jianming/multiface/dataset/m--20180226--0000--6674443--GHS/unwrapped_uv_1024/\"\n",
    "all_dir = os.listdir(path_prefix2)\n",
    "for sgl_dir in all_dir:\n",
    "    path_average2 = os.path.join(path_prefix2 + sgl_dir, \"average\")\n",
    "    overall_img_path_list2.append(os.path.join(path_average2, os.listdir(path_average2)[0]))\n",
    "\n",
    "downsample_list2 = []\n",
    "for img_path in overall_img_path_list2:\n",
    "    image = Image.open(img_path).convert('RGB')\n",
    "    transform = transforms.Compose([\n",
    "        transforms.ToTensor()\n",
    "    ])\n",
    "    x = transform(image).unsqueeze(0)\n",
    "    downsample_img = transforms.Resize(size=int(x.shape[-1]/downsample_shape))(x)\n",
    "    downsample_list2.append(downsample_img)\n",
    "\n",
    "\n",
    "# Two users\n",
    "downsample_overall = downsample_list + downsample_list2\n",
    "num_downsample_original_images = len(downsample_overall)"
   ]
  },
  {
   "cell_type": "code",
   "execution_count": 25,
   "metadata": {},
   "outputs": [],
   "source": [
    "distance_calculation_reconstruct_origin = np.zeros((num_downsample_original_images, num_downsample_original_images))\n",
    "for i in range(num_images):\n",
    "    for j in range(num_images):\n",
    "        distance_calculation_reconstruct_origin[i][j] = np.linalg.norm(highest_frequency_components_overall[i] - downsample_overall[j])\n",
    "\n",
    "category_guess = []\n",
    "for i in range(num_images):\n",
    "    category_guess.append(np.argmin(distance_calculation_reconstruct_origin[i]))\n",
    "\n",
    "number_correct_guess = 0\n",
    "for i in range(num_images):\n",
    "    if(category_guess[i] == i):\n",
    "        number_correct_guess=number_correct_guess+1\n",
    "\n",
    "print(f\"overall correct guess number = {number_correct_guess}\")\n",
    "print(f\"Correct guess ratio = {number_correct_guess/num_images}\")"
   ]
  },
  {
   "cell_type": "markdown",
   "metadata": {},
   "source": [
    "# Choose among all outsourced frequency componets "
   ]
  },
  {
   "cell_type": "code",
   "execution_count": 19,
   "metadata": {},
   "outputs": [
    {
     "name": "stderr",
     "output_type": "stream",
     "text": [
      "<>:26: SyntaxWarning: assertion is always true, perhaps remove parentheses?\n",
      "<>:26: SyntaxWarning: assertion is always true, perhaps remove parentheses?\n",
      "<>:26: SyntaxWarning: assertion is always true, perhaps remove parentheses?\n",
      "/tmp/ipykernel_395494/3924117286.py:26: SyntaxWarning: assertion is always true, perhaps remove parentheses?\n",
      "  assert(x.shape[1] == 3, \"Wrong input, Channel should equals to 3\")\n"
     ]
    }
   ],
   "source": [
    "import torchvision.transforms as transforms\n",
    "import torch.nn.functional as F\n",
    "import matplotlib.pyplot as plt\n",
    "from torchjpeg import dct\n",
    "# from scipy.fftpack import dct, idct\n",
    "# import torch_dct as dct_2d, idct_2d\n",
    "from PIL import Image\n",
    "import os \n",
    "import torch\n",
    "import torchvision.transforms as T\n",
    "\n",
    "block_size = 4\n",
    "total_frequency_components = block_size * block_size\n",
    "check_reconstruct_img = True\n",
    "save_block_img_to_drive = False\n",
    "\n",
    "def load_image(image_path):\n",
    "    image = Image.open(image_path).convert('RGB')\n",
    "    transform = transforms.Compose([\n",
    "        transforms.ToTensor()\n",
    "    ])\n",
    "    return transform(image).unsqueeze(0)  # Add batch dimension \n",
    "\n",
    "def img_reorder(x, bs, ch, h, w):\n",
    "    x = (x + 1) / 2 * 255\n",
    "    assert(x.shape[1] == 3, \"Wrong input, Channel should equals to 3\")\n",
    "    x = dct.to_ycbcr(x)  # comvert RGB to YCBCR\n",
    "    x -= 128\n",
    "    x = x.view(bs * ch, 1, h, w)\n",
    "    x = F.unfold(x, kernel_size=(block_size, block_size), dilation=1, padding=0, stride=(block_size, block_size))\n",
    "    x = x.transpose(1, 2)\n",
    "    x = x.view(bs, ch, -1, block_size, block_size)\n",
    "    return x\n",
    "\n",
    "## Image reordering and testing\n",
    "def img_inverse_reroder(coverted_img, bs, ch, h, w):\n",
    "    x = coverted_img.view(bs* ch, -1, total_frequency_components)\n",
    "    x = x.transpose(1, 2)\n",
    "    x = F.fold(x, output_size=(h, w), kernel_size=(block_size, block_size), stride=(block_size, block_size))\n",
    "    x += 128\n",
    "    x = x.view(bs, ch, h, w)\n",
    "    x = dct.to_rgb(x)#.squeeze(0)\n",
    "    x = (x / 255.0) * 2 - 1\n",
    "    return x\n",
    "\n",
    "## Image frequency cosine transform\n",
    "def test_img_dct_transform_reorder_noise(x, bs, ch, h, w, freq_comp_lb):\n",
    "    back_input = x\n",
    "    rerodered_img = img_reorder(x, bs, ch, h, w)\n",
    "    block_num = h // 4\n",
    "    dct_block = dct.block_dct(rerodered_img) #BDCT\n",
    "    dct_block_reorder = dct_block.view(bs, ch, block_num, block_num, total_frequency_components).permute(0, 1, 4, 2, 3) # into (bs, ch, 64, block_num, block_num)\n",
    "    \n",
    "    for i in range(freq_comp_lb):\n",
    "        dct_block_reorder[:, :, i, :, :] = dct_block_reorder[:, :, freq_comp_lb, :, :]\n",
    " \n",
    "    idct_dct_block_reorder = dct_block_reorder.view(bs, ch, total_frequency_components, block_num*block_num).permute(0, 1, 3, 2).view(bs, ch, block_num*block_num, block_size, block_size)\n",
    "    inverse_dct_block = dct.block_idct(idct_dct_block_reorder) #inverse BDCT\n",
    "    inverse_transformed_img = img_inverse_reroder(inverse_dct_block, bs, ch, h, w)\n",
    "    print(torch.allclose(inverse_transformed_img, back_input, atol=1e-4))\n",
    "    return inverse_transformed_img\n",
    "\n",
    "\n",
    "## Image frequency cosine transform\n",
    "def test_img_dct_transform_reorder_noise_outsource(x, bs, ch, h, w, freq_comp_lb, path_variance_matrix_tensor, add_noise):\n",
    "    rerodered_img = img_reorder(x, bs, ch, h, w)\n",
    "    block_num = h // 4\n",
    "    dct_block = dct.block_dct(rerodered_img) #BDCT\n",
    "    dct_block_reorder = dct_block.view(bs, ch, block_num, block_num, total_frequency_components).permute(0, 1, 4, 2, 3) # into (bs, ch, 64, block_num, block_num)\n",
    "    \n",
    "    for i in range(freq_comp_lb):\n",
    "        dct_block_reorder[:, :, i, :, :] = dct_block_reorder[:, :, freq_comp_lb, :, :]\n",
    "    if add_noise:\n",
    "        mean = np.zeros(256)\n",
    "        variance_matrix_tensor = torch.load(path_variance_matrix_tensor).cpu()\n",
    "        total_sample_noises = dct_block_reorder.shape[0] * dct_block_reorder.shape[1] * dct_block_reorder.shape[2] * dct_block_reorder.shape[3]\n",
    "        noise_sample = torch.from_numpy(np.random.multivariate_normal(mean, variance_matrix_tensor.detach().numpy(), total_sample_noises)).to(torch.float)\n",
    "        noise_sample = noise_sample.reshape(dct_block_reorder.shape)\n",
    "        dct_block_reorder = dct_block_reorder + noise_sample\n",
    "    \n",
    "    idct_dct_block_reorder = dct_block_reorder.view(bs, ch, total_frequency_components, block_num*block_num).permute(0, 1, 3, 2).view(bs, ch, block_num*block_num, block_size, block_size)\n",
    "    inverse_dct_block = dct.block_idct(idct_dct_block_reorder) #inverse BDCT\n",
    "    inverse_transformed_img = img_inverse_reroder(inverse_dct_block, bs, ch, h, w)\n",
    "    return inverse_transformed_img"
   ]
  },
  {
   "cell_type": "code",
   "execution_count": 13,
   "metadata": {},
   "outputs": [
    {
     "name": "stdout",
     "output_type": "stream",
     "text": [
      "True\n"
     ]
    }
   ],
   "source": [
    "test_img_path = \"/home/jianming/work/multiface/dataset/m--20180227--0000--6795937--GHS/unwrapped_uv_1024/E001_Neutral_Eyes_Open/average/000102.png\"\n",
    "test_image_tensor = load_image(img_path)\n",
    "bs, ch, h, w = test_image_tensor.shape\n",
    "test_inverse_transformed_img = test_img_dct_transform_reorder_noise(test_image_tensor, bs, ch, h, w, 0)"
   ]
  },
  {
   "cell_type": "code",
   "execution_count": 7,
   "metadata": {},
   "outputs": [
    {
     "name": "stdout",
     "output_type": "stream",
     "text": [
      "15\n",
      "14\n",
      "13\n",
      "12\n",
      "11\n",
      "10\n",
      "9\n",
      "8\n",
      "7\n",
      "6\n",
      "5\n",
      "4\n",
      "3\n",
      "2\n",
      "1\n",
      "15\n"
     ]
    }
   ],
   "source": [
    "Test_list = []\n",
    "for i in range(total_frequency_components-1):\n",
    "    print(total_frequency_components-1-i)\n",
    "    Test_list.append(total_frequency_components-1-i)\n",
    "print(len(Test_list))"
   ]
  },
  {
   "cell_type": "code",
   "execution_count": null,
   "metadata": {},
   "outputs": [],
   "source": [
    "\"\"\"\n",
    "    Obtain the outsourced images\n",
    "\"\"\"\n",
    "\n",
    "# User 1\n",
    "overall_img_path_list_all_comp = []\n",
    "total_frequency_components = 16\n",
    "for i in range(total_frequency_components-1):\n",
    "    overall_img_path_list = []\n",
    "    path_prefix = \"/home/jianming/work/multiface/dataset/m--20180227--0000--6795937--GHS/unwrapped_uv_1024/\"\n",
    "    all_dir = os.listdir(path_prefix)\n",
    "    for sgl_dir in all_dir:\n",
    "        path_average = os.path.join(path_prefix + sgl_dir, \"average\")\n",
    "        overall_img_path_list.append(os.path.join(path_average, os.listdir(path_average)[0]))\n",
    "\n",
    "    image_list = []\n",
    "    for img_path in overall_img_path_list:\n",
    "        image_tensor = load_image(img_path)\n",
    "        bs, ch, h, w = image_tensor.shape\n",
    "        inverse_transformed_img = test_img_dct_transform_reorder_noise(image_tensor, bs, ch, h, w, total_frequency_components-1-i)\n",
    "        image_list.append(inverse_transformed_img)\n",
    "\n",
    "    # User 2\n",
    "    overall_img_path_list2 = []\n",
    "    path_prefix2 = \"/scratch1/jianming/multiface/dataset/m--20180226--0000--6674443--GHS/unwrapped_uv_1024/\"\n",
    "    all_dir = os.listdir(path_prefix2)\n",
    "    for sgl_dir in all_dir:\n",
    "        path_average2 = os.path.join(path_prefix2 + sgl_dir, \"average\")\n",
    "        overall_img_path_list2.append(os.path.join(path_average2, os.listdir(path_average2)[0]))\n",
    "\n",
    "    image_list2 = []\n",
    "    for img_path in overall_img_path_list2:\n",
    "        image_tensor = load_image(img_path)\n",
    "        bs, ch, h, w = image_tensor.shape\n",
    "        inverse_transformed_img = test_img_dct_transform_reorder_noise(image_tensor, bs, ch, h, w, total_frequency_components-1-i)\n",
    "        image_list2.append(inverse_transformed_img)\n",
    "\n",
    "    overall_image_list = image_list + image_list2\n",
    "    overall_img_path_list_all_comp.append(overall_image_list)"
   ]
  },
  {
   "cell_type": "code",
   "execution_count": 22,
   "metadata": {},
   "outputs": [
    {
     "name": "stdout",
     "output_type": "stream",
     "text": [
      "15\n",
      "131\n",
      "torch.Size([1, 3, 1024, 1024])\n"
     ]
    }
   ],
   "source": [
    "print(len(overall_img_path_list_all_comp))\n",
    "print(len(overall_img_path_list_all_comp[0]))\n",
    "print(overall_img_path_list_all_comp[0][0].shape)"
   ]
  },
  {
   "cell_type": "code",
   "execution_count": 31,
   "metadata": {},
   "outputs": [],
   "source": [
    "\"\"\"\n",
    "    Obtain the original image\n",
    "\"\"\"\n",
    "\n",
    "# User 1\n",
    "overall_img_path_list = []\n",
    "path_prefix = \"/home/jianming/work/multiface/dataset/m--20180227--0000--6795937--GHS/unwrapped_uv_1024/\"\n",
    "all_dir = os.listdir(path_prefix)\n",
    "for sgl_dir in all_dir:\n",
    "    path_average = os.path.join(path_prefix + sgl_dir, \"average\")\n",
    "    overall_img_path_list.append(os.path.join(path_average, os.listdir(path_average)[0]))\n",
    "\n",
    "image_list = []\n",
    "for img_path in overall_img_path_list:\n",
    "    image = Image.open(img_path).convert('RGB')\n",
    "    transform = transforms.Compose([\n",
    "        transforms.ToTensor()\n",
    "    ])\n",
    "    x = transform(image).unsqueeze(0)\n",
    "    image_list.append(x)\n",
    "\n",
    "# User 2\n",
    "overall_img_path_list2 = []\n",
    "path_prefix2 = \"/scratch1/jianming/multiface/dataset/m--20180226--0000--6674443--GHS/unwrapped_uv_1024/\"\n",
    "all_dir = os.listdir(path_prefix2)\n",
    "for sgl_dir in all_dir:\n",
    "    path_average2 = os.path.join(path_prefix2 + sgl_dir, \"average\")\n",
    "    overall_img_path_list2.append(os.path.join(path_average2, os.listdir(path_average2)[0]))\n",
    "\n",
    "image_list2 = []\n",
    "for img_path in overall_img_path_list2:\n",
    "    image = Image.open(img_path).convert('RGB')\n",
    "    transform = transforms.Compose([\n",
    "        transforms.ToTensor()\n",
    "    ])\n",
    "    x = transform(image).unsqueeze(0)\n",
    "    image_list2.append(x)\n",
    "\n",
    "# Two users\n",
    "image_overall = image_list + image_list2\n",
    "num_image_original_images = len(image_overall)"
   ]
  },
  {
   "cell_type": "code",
   "execution_count": 11,
   "metadata": {},
   "outputs": [],
   "source": [
    "import numpy as np\n",
    "total_numerb_freq_components = 16 \n",
    "\n",
    "def caculate_attack_successful_rate(image_list1, image_list2):\n",
    "    num_images = len(image_list1)\n",
    "    distance_calculation_reconstruct_origin = np.zeros((len(image_list1), len(image_list1)))\n",
    "    for i in range(num_images):\n",
    "        for j in range(num_images):\n",
    "            distance_calculation_reconstruct_origin[i][j] = np.linalg.norm(image_list1[i] - image_list2[j])\n",
    "\n",
    "    category_guess = []\n",
    "    for i in range(num_images):\n",
    "        category_guess.append(np.argmin(distance_calculation_reconstruct_origin[i]))\n",
    "\n",
    "    number_correct_guess = 0\n",
    "    for i in range(num_images):\n",
    "        if(category_guess[i] == i):\n",
    "            number_correct_guess=number_correct_guess+1\n",
    "\n",
    "    print(f\"overall correct guess number = {number_correct_guess}\")\n",
    "    print(f\"Correct guess ratio = {number_correct_guess/num_images}\")\n",
    "    return number_correct_guess/num_images"
   ]
  },
  {
   "cell_type": "code",
   "execution_count": 38,
   "metadata": {},
   "outputs": [
    {
     "name": "stdout",
     "output_type": "stream",
     "text": [
      "overall correct guess number = 12\n",
      "Correct guess ratio = 0.0916030534351145\n",
      "overall correct guess number = 42\n",
      "Correct guess ratio = 0.32061068702290074\n",
      "overall correct guess number = 67\n",
      "Correct guess ratio = 0.5114503816793893\n",
      "overall correct guess number = 114\n",
      "Correct guess ratio = 0.8702290076335878\n",
      "overall correct guess number = 131\n",
      "Correct guess ratio = 1.0\n",
      "overall correct guess number = 131\n",
      "Correct guess ratio = 1.0\n",
      "overall correct guess number = 131\n",
      "Correct guess ratio = 1.0\n",
      "overall correct guess number = 131\n",
      "Correct guess ratio = 1.0\n",
      "overall correct guess number = 131\n",
      "Correct guess ratio = 1.0\n",
      "overall correct guess number = 131\n",
      "Correct guess ratio = 1.0\n",
      "overall correct guess number = 131\n",
      "Correct guess ratio = 1.0\n",
      "overall correct guess number = 131\n",
      "Correct guess ratio = 1.0\n",
      "overall correct guess number = 131\n",
      "Correct guess ratio = 1.0\n",
      "overall correct guess number = 131\n",
      "Correct guess ratio = 1.0\n",
      "overall correct guess number = 131\n",
      "Correct guess ratio = 1.0\n",
      "[0.0916030534351145, 0.32061068702290074, 0.5114503816793893, 0.8702290076335878, 1.0, 1.0, 1.0, 1.0, 1.0, 1.0, 1.0, 1.0, 1.0, 1.0, 1.0]\n"
     ]
    }
   ],
   "source": [
    "empirical_successful_rate_under_all_categroies = []\n",
    "for i in range(len(overall_img_path_list_all_comp)):\n",
    "    psr = caculate_attack_successful_rate(image_overall, overall_img_path_list_all_comp[i])\n",
    "    empirical_successful_rate_under_all_categroies.append(psr)\n",
    "print(empirical_successful_rate_under_all_categroies)"
   ]
  },
  {
   "cell_type": "markdown",
   "metadata": {},
   "source": [
    "# Empirical Attacker under different noisy outsourced texture"
   ]
  },
  {
   "cell_type": "code",
   "execution_count": 21,
   "metadata": {},
   "outputs": [
    {
     "name": "stderr",
     "output_type": "stream",
     "text": [
      "<>:26: SyntaxWarning: assertion is always true, perhaps remove parentheses?\n",
      "<>:26: SyntaxWarning: assertion is always true, perhaps remove parentheses?\n",
      "<>:26: SyntaxWarning: assertion is always true, perhaps remove parentheses?\n",
      "/tmp/ipykernel_395494/3924117286.py:26: SyntaxWarning: assertion is always true, perhaps remove parentheses?\n",
      "  assert(x.shape[1] == 3, \"Wrong input, Channel should equals to 3\")\n"
     ]
    }
   ],
   "source": [
    "import torchvision.transforms as transforms\n",
    "import torch.nn.functional as F\n",
    "import matplotlib.pyplot as plt\n",
    "from torchjpeg import dct\n",
    "# from scipy.fftpack import dct, idct\n",
    "# import torch_dct as dct_2d, idct_2d\n",
    "from PIL import Image\n",
    "import os \n",
    "import torch\n",
    "import torchvision.transforms as T\n",
    "\n",
    "block_size = 4\n",
    "total_frequency_components = block_size * block_size\n",
    "check_reconstruct_img = True\n",
    "save_block_img_to_drive = False\n",
    "\n",
    "def load_image(image_path):\n",
    "    image = Image.open(image_path).convert('RGB')\n",
    "    transform = transforms.Compose([\n",
    "        transforms.ToTensor()\n",
    "    ])\n",
    "    return transform(image).unsqueeze(0)  # Add batch dimension \n",
    "\n",
    "def img_reorder(x, bs, ch, h, w):\n",
    "    x = (x + 1) / 2 * 255\n",
    "    assert(x.shape[1] == 3, \"Wrong input, Channel should equals to 3\")\n",
    "    x = dct.to_ycbcr(x)  # comvert RGB to YCBCR\n",
    "    x -= 128\n",
    "    x = x.view(bs * ch, 1, h, w)\n",
    "    x = F.unfold(x, kernel_size=(block_size, block_size), dilation=1, padding=0, stride=(block_size, block_size))\n",
    "    x = x.transpose(1, 2)\n",
    "    x = x.view(bs, ch, -1, block_size, block_size)\n",
    "    return x\n",
    "\n",
    "## Image reordering and testing\n",
    "def img_inverse_reroder(coverted_img, bs, ch, h, w):\n",
    "    x = coverted_img.view(bs* ch, -1, total_frequency_components)\n",
    "    x = x.transpose(1, 2)\n",
    "    x = F.fold(x, output_size=(h, w), kernel_size=(block_size, block_size), stride=(block_size, block_size))\n",
    "    x += 128\n",
    "    x = x.view(bs, ch, h, w)\n",
    "    x = dct.to_rgb(x)#.squeeze(0)\n",
    "    x = (x / 255.0) * 2 - 1\n",
    "    return x\n",
    "\n",
    "## Image frequency cosine transform\n",
    "def test_img_dct_transform_reorder_noise(x, bs, ch, h, w, freq_comp_lb):\n",
    "    back_input = x\n",
    "    rerodered_img = img_reorder(x, bs, ch, h, w)\n",
    "    block_num = h // 4\n",
    "    dct_block = dct.block_dct(rerodered_img) #BDCT\n",
    "    dct_block_reorder = dct_block.view(bs, ch, block_num, block_num, total_frequency_components).permute(0, 1, 4, 2, 3) # into (bs, ch, 64, block_num, block_num)\n",
    "    \n",
    "    for i in range(freq_comp_lb):\n",
    "        dct_block_reorder[:, :, i, :, :] = dct_block_reorder[:, :, freq_comp_lb, :, :]\n",
    " \n",
    "    idct_dct_block_reorder = dct_block_reorder.view(bs, ch, total_frequency_components, block_num*block_num).permute(0, 1, 3, 2).view(bs, ch, block_num*block_num, block_size, block_size)\n",
    "    inverse_dct_block = dct.block_idct(idct_dct_block_reorder) #inverse BDCT\n",
    "    inverse_transformed_img = img_inverse_reroder(inverse_dct_block, bs, ch, h, w)\n",
    "    print(torch.allclose(inverse_transformed_img, back_input, atol=1e-4))\n",
    "    return inverse_transformed_img\n",
    "\n",
    "\n",
    "## Image frequency cosine transform\n",
    "def test_img_dct_transform_reorder_noise_outsource(x, bs, ch, h, w, freq_comp_lb, path_variance_matrix_tensor, add_noise):\n",
    "    rerodered_img = img_reorder(x, bs, ch, h, w)\n",
    "    block_num = h // 4\n",
    "    dct_block = dct.block_dct(rerodered_img) #BDCT\n",
    "    dct_block_reorder = dct_block.view(bs, ch, block_num, block_num, total_frequency_components).permute(0, 1, 4, 2, 3) # into (bs, ch, 64, block_num, block_num)\n",
    "    \n",
    "    for i in range(freq_comp_lb):\n",
    "        dct_block_reorder[:, :, i, :, :] = dct_block_reorder[:, :, freq_comp_lb, :, :]\n",
    "    if add_noise:\n",
    "        mean = np.zeros(256)\n",
    "        variance_matrix_tensor = torch.load(path_variance_matrix_tensor).cpu()\n",
    "        total_sample_noises = dct_block_reorder.shape[0] * dct_block_reorder.shape[1] * dct_block_reorder.shape[2] * dct_block_reorder.shape[3]\n",
    "        noise_sample = torch.from_numpy(np.random.multivariate_normal(mean, variance_matrix_tensor.detach().numpy(), total_sample_noises)).to(torch.float)\n",
    "        noise_sample = noise_sample.reshape(dct_block_reorder.shape)\n",
    "        dct_block_reorder = dct_block_reorder + noise_sample\n",
    "    \n",
    "    idct_dct_block_reorder = dct_block_reorder.view(bs, ch, total_frequency_components, block_num*block_num).permute(0, 1, 3, 2).view(bs, ch, block_num*block_num, block_size, block_size)\n",
    "    inverse_dct_block = dct.block_idct(idct_dct_block_reorder) #inverse BDCT\n",
    "    inverse_transformed_img = img_inverse_reroder(inverse_dct_block, bs, ch, h, w)\n",
    "    return inverse_transformed_img"
   ]
  },
  {
   "cell_type": "code",
   "execution_count": null,
   "metadata": {},
   "outputs": [],
   "source": [
    "\"\"\"\n",
    "    Obtain the original image\n",
    "\"\"\"\n",
    "\n",
    "# User 1\n",
    "overall_img_path_list = []\n",
    "path_prefix = \"/home/jianming/work/multiface/dataset/m--20180227--0000--6795937--GHS/unwrapped_uv_1024/\"\n",
    "all_dir = os.listdir(path_prefix)\n",
    "for sgl_dir in all_dir:\n",
    "    path_average = os.path.join(path_prefix + sgl_dir, \"average\")\n",
    "    overall_img_path_list.append(os.path.join(path_average, os.listdir(path_average)[0]))\n",
    "\n",
    "image_list = []\n",
    "for img_path in overall_img_path_list:\n",
    "    image = Image.open(img_path).convert('RGB')\n",
    "    transform = transforms.Compose([\n",
    "        transforms.ToTensor()\n",
    "    ])\n",
    "    x = transform(image).unsqueeze(0)\n",
    "    image_list.append(x)\n",
    "\n",
    "# User 2\n",
    "overall_img_path_list2 = []\n",
    "path_prefix2 = \"/scratch1/jianming/multiface/dataset/m--20180226--0000--6674443--GHS/unwrapped_uv_1024/\"\n",
    "all_dir = os.listdir(path_prefix2)\n",
    "for sgl_dir in all_dir:\n",
    "    path_average2 = os.path.join(path_prefix2 + sgl_dir, \"average\")\n",
    "    overall_img_path_list2.append(os.path.join(path_average2, os.listdir(path_average2)[0]))\n",
    "\n",
    "image_list2 = []\n",
    "for img_path in overall_img_path_list2:\n",
    "    image = Image.open(img_path).convert('RGB')\n",
    "    transform = transforms.Compose([\n",
    "        transforms.ToTensor()\n",
    "    ])\n",
    "    x = transform(image).unsqueeze(0)\n",
    "    image_list2.append(x)\n",
    "\n",
    "# Two users\n",
    "image_overall = image_list + image_list2\n",
    "num_image_original_images = len(image_overall)"
   ]
  },
  {
   "cell_type": "code",
   "execution_count": 32,
   "metadata": {},
   "outputs": [
    {
     "name": "stderr",
     "output_type": "stream",
     "text": [
      "100%|██████████| 12/12 [04:56<00:00, 24.74s/it]\n"
     ]
    },
    {
     "name": "stdout",
     "output_type": "stream",
     "text": [
      "overall correct guess number = 1\n",
      "Correct guess ratio = 0.007633587786259542\n",
      "overall correct guess number = 1\n",
      "Correct guess ratio = 0.007633587786259542\n",
      "overall correct guess number = 1\n",
      "Correct guess ratio = 0.007633587786259542\n",
      "overall correct guess number = 2\n",
      "Correct guess ratio = 0.015267175572519083\n",
      "overall correct guess number = 1\n",
      "Correct guess ratio = 0.007633587786259542\n",
      "overall correct guess number = 1\n",
      "Correct guess ratio = 0.007633587786259542\n",
      "overall correct guess number = 1\n",
      "Correct guess ratio = 0.007633587786259542\n",
      "overall correct guess number = 1\n",
      "Correct guess ratio = 0.007633587786259542\n",
      "overall correct guess number = 1\n",
      "Correct guess ratio = 0.007633587786259542\n",
      "overall correct guess number = 1\n",
      "Correct guess ratio = 0.007633587786259542\n",
      "overall correct guess number = 1\n",
      "Correct guess ratio = 0.007633587786259542\n"
     ]
    },
    {
     "name": "stderr",
     "output_type": "stream",
     "text": [
      " 33%|███▎      | 1/3 [09:00<18:01, 540.55s/it]"
     ]
    },
    {
     "name": "stdout",
     "output_type": "stream",
     "text": [
      "overall correct guess number = 1\n",
      "Correct guess ratio = 0.007633587786259542\n",
      "[0.007633587786259542, 0.007633587786259542, 0.007633587786259542, 0.015267175572519083, 0.007633587786259542, 0.007633587786259542, 0.007633587786259542, 0.007633587786259542, 0.007633587786259542, 0.007633587786259542, 0.007633587786259542, 0.007633587786259542]\n"
     ]
    },
    {
     "name": "stderr",
     "output_type": "stream",
     "text": [
      "100%|██████████| 12/12 [05:14<00:00, 26.22s/it]\n"
     ]
    },
    {
     "name": "stdout",
     "output_type": "stream",
     "text": [
      "overall correct guess number = 1\n",
      "Correct guess ratio = 0.007633587786259542\n",
      "overall correct guess number = 2\n",
      "Correct guess ratio = 0.015267175572519083\n",
      "overall correct guess number = 3\n",
      "Correct guess ratio = 0.022900763358778626\n",
      "overall correct guess number = 3\n",
      "Correct guess ratio = 0.022900763358778626\n",
      "overall correct guess number = 1\n",
      "Correct guess ratio = 0.007633587786259542\n",
      "overall correct guess number = 1\n",
      "Correct guess ratio = 0.007633587786259542\n",
      "overall correct guess number = 1\n",
      "Correct guess ratio = 0.007633587786259542\n",
      "overall correct guess number = 1\n",
      "Correct guess ratio = 0.007633587786259542\n",
      "overall correct guess number = 1\n",
      "Correct guess ratio = 0.007633587786259542\n",
      "overall correct guess number = 1\n",
      "Correct guess ratio = 0.007633587786259542\n",
      "overall correct guess number = 1\n",
      "Correct guess ratio = 0.007633587786259542\n"
     ]
    },
    {
     "name": "stderr",
     "output_type": "stream",
     "text": [
      " 67%|██████▋   | 2/3 [18:22<09:12, 552.89s/it]"
     ]
    },
    {
     "name": "stdout",
     "output_type": "stream",
     "text": [
      "overall correct guess number = 4\n",
      "Correct guess ratio = 0.030534351145038167\n",
      "[0.007633587786259542, 0.015267175572519083, 0.022900763358778626, 0.022900763358778626, 0.007633587786259542, 0.007633587786259542, 0.007633587786259542, 0.007633587786259542, 0.007633587786259542, 0.007633587786259542, 0.007633587786259542, 0.030534351145038167]\n"
     ]
    },
    {
     "name": "stderr",
     "output_type": "stream",
     "text": [
      "100%|██████████| 12/12 [05:11<00:00, 25.96s/it]\n"
     ]
    },
    {
     "name": "stdout",
     "output_type": "stream",
     "text": [
      "overall correct guess number = 110\n",
      "Correct guess ratio = 0.8396946564885496\n",
      "overall correct guess number = 24\n",
      "Correct guess ratio = 0.183206106870229\n",
      "overall correct guess number = 35\n",
      "Correct guess ratio = 0.26717557251908397\n",
      "overall correct guess number = 39\n",
      "Correct guess ratio = 0.29770992366412213\n",
      "overall correct guess number = 34\n",
      "Correct guess ratio = 0.2595419847328244\n",
      "overall correct guess number = 15\n",
      "Correct guess ratio = 0.11450381679389313\n",
      "overall correct guess number = 3\n",
      "Correct guess ratio = 0.022900763358778626\n",
      "overall correct guess number = 6\n",
      "Correct guess ratio = 0.04580152671755725\n",
      "overall correct guess number = 6\n",
      "Correct guess ratio = 0.04580152671755725\n",
      "overall correct guess number = 3\n",
      "Correct guess ratio = 0.022900763358778626\n",
      "overall correct guess number = 1\n",
      "Correct guess ratio = 0.007633587786259542\n"
     ]
    },
    {
     "name": "stderr",
     "output_type": "stream",
     "text": [
      "100%|██████████| 3/3 [27:45<00:00, 555.01s/it]"
     ]
    },
    {
     "name": "stdout",
     "output_type": "stream",
     "text": [
      "overall correct guess number = 2\n",
      "Correct guess ratio = 0.015267175572519083\n",
      "[0.8396946564885496, 0.183206106870229, 0.26717557251908397, 0.29770992366412213, 0.2595419847328244, 0.11450381679389313, 0.022900763358778626, 0.04580152671755725, 0.04580152671755725, 0.022900763358778626, 0.007633587786259542, 0.015267175572519083]\n"
     ]
    },
    {
     "name": "stderr",
     "output_type": "stream",
     "text": [
      "\n"
     ]
    }
   ],
   "source": [
    "\"\"\"\n",
    "    Obtain the outsourced images\n",
    "\"\"\"\n",
    "from tqdm import tqdm\n",
    "import numpy as np\n",
    "mean = np.zeros(256)\n",
    "mutual_info_bound_list = [0.01, 0.1, 1]\n",
    "overall_img_path_list_all_comp_all_mi = []\n",
    "freq_threshold = [0.3, 0.305, 0.35, 0.4, 0.42, 0.45, 0.5, 0.6, 0.7, 1.1, 1.2, 3.5, 5.0]\n",
    "frequency_components_num = len(freq_threshold)\n",
    "num_outsourced_comp = [1, 2, 3, 4, 5, 6, 7, 8, 10, 12, 13, 14, 15]\n",
    "# mutual_info_bound_list = [0.01]#, 0.05, 0.1, 0.2, 0.3, 0.4, 0.5, 1, 2]\n",
    "\n",
    "empirical_successful_rate_under_all_categroies_all_mi = []\n",
    "\n",
    "for mutual_info in tqdm(mutual_info_bound_list):\n",
    "    overall_img_path_list_all_comp = []\n",
    "    for i in tqdm(range(frequency_components_num-1)):\n",
    "        # User 1\n",
    "        path_variance_matrix_tensor = f\"/home/jianming/work/Privatar_prj/profiled_latent_code/statistics/bdct_4x4_noisy_hp_{freq_threshold[i]}_mutual_bound_{mutual_info}.pth\"\n",
    "        add_noise = True\n",
    "\n",
    "        overall_img_path_list = []\n",
    "        path_prefix = \"/home/jianming/work/multiface/dataset/m--20180227--0000--6795937--GHS/unwrapped_uv_1024/\"\n",
    "        all_dir = os.listdir(path_prefix)\n",
    "        for sgl_dir in all_dir:\n",
    "            path_average = os.path.join(path_prefix + sgl_dir, \"average\")\n",
    "            overall_img_path_list.append(os.path.join(path_average, os.listdir(path_average)[0]))\n",
    "\n",
    "        image_list = []\n",
    "        for img_path in overall_img_path_list:\n",
    "            image_tensor = load_image(img_path)\n",
    "            bs, ch, h, w = image_tensor.shape\n",
    "            inverse_transformed_img = test_img_dct_transform_reorder_noise_outsource(image_tensor, bs, ch, h, w, num_outsourced_comp[i], path_variance_matrix_tensor, add_noise)\n",
    "            image_list.append(inverse_transformed_img)\n",
    "\n",
    "        # User 2\n",
    "        overall_img_path_list2 = []\n",
    "        path_prefix2 = \"/scratch1/jianming/multiface/dataset/m--20180226--0000--6674443--GHS/unwrapped_uv_1024/\"\n",
    "        all_dir = os.listdir(path_prefix2)\n",
    "        for sgl_dir in all_dir:\n",
    "            path_average2 = os.path.join(path_prefix2 + sgl_dir, \"average\")\n",
    "            overall_img_path_list2.append(os.path.join(path_average2, os.listdir(path_average2)[0]))\n",
    "\n",
    "        image_list2 = []\n",
    "        for img_path in overall_img_path_list2:\n",
    "            image_tensor = load_image(img_path)\n",
    "            bs, ch, h, w = image_tensor.shape\n",
    "            inverse_transformed_img = test_img_dct_transform_reorder_noise_outsource(image_tensor, bs, ch, h, w, num_outsourced_comp[i], path_variance_matrix_tensor, add_noise)\n",
    "            image_list2.append(inverse_transformed_img)\n",
    "\n",
    "        overall_image_list = image_list + image_list2\n",
    "        overall_img_path_list_all_comp.append(overall_image_list)\n",
    "    overall_img_path_list_all_comp_all_mi.append(overall_img_path_list_all_comp)\n",
    "    \n",
    "    empirical_successful_rate_under_all_categroies = []\n",
    "    for i in range(len(overall_img_path_list_all_comp)):\n",
    "        psr = caculate_attack_successful_rate(image_overall, overall_img_path_list_all_comp[i])\n",
    "        empirical_successful_rate_under_all_categroies.append(psr)\n",
    "    print(empirical_successful_rate_under_all_categroies)\n",
    "\n",
    "    empirical_successful_rate_under_all_categroies_all_mi.append(empirical_successful_rate_under_all_categroies)"
   ]
  },
  {
   "cell_type": "code",
   "execution_count": 47,
   "metadata": {},
   "outputs": [
    {
     "data": {
      "text/plain": [
       "[]"
      ]
     },
     "execution_count": 47,
     "metadata": {},
     "output_type": "execute_result"
    }
   ],
   "source": [
    "empirical_successful_rate_under_all_categroies_all_mi"
   ]
  },
  {
   "cell_type": "code",
   "execution_count": 46,
   "metadata": {},
   "outputs": [
    {
     "name": "stderr",
     "output_type": "stream",
     "text": [
      "100%|██████████| 12/12 [00:00<00:00, 44.57it/s]\n",
      "100%|██████████| 1/1 [00:00<00:00,  3.69it/s]"
     ]
    },
    {
     "name": "stdout",
     "output_type": "stream",
     "text": [
      "4.358622358350331\n",
      "4.9727247266346595\n"
     ]
    },
    {
     "name": "stderr",
     "output_type": "stream",
     "text": [
      "\n"
     ]
    }
   ],
   "source": [
    "l2_norm_list = []\n",
    "\n",
    "from tqdm import tqdm\n",
    "import numpy as np\n",
    "mean = np.zeros(256)\n",
    "mutual_info_bound_list = [ 1]\n",
    "overall_img_path_list_all_comp_all_mi = []\n",
    "freq_threshold = [0.3, 0.305, 0.35, 0.4, 0.42, 0.45, 0.5, 0.6, 0.7, 1.1, 1.2, 3.5, 5.0]\n",
    "frequency_components_num = len(freq_threshold)\n",
    "num_outsourced_comp = [1, 2, 3, 4, 5, 6, 7, 8, 10, 12, 13, 14, 15]\n",
    "# mutual_info_bound_list = [0.01]#, 0.05, 0.1, 0.2, 0.3, 0.4, 0.5, 1, 2]\n",
    "\n",
    "empirical_successful_rate_under_all_categroies_all_mi = []\n",
    "\n",
    "for mutual_info in tqdm(mutual_info_bound_list):\n",
    "    overall_img_path_list_all_comp = []\n",
    "    for i in tqdm(range(frequency_components_num-1)):\n",
    "        # User 1\n",
    "        path_variance_matrix_tensor = f\"/home/jianming/work/Privatar_prj/profiled_latent_code/statistics/bdct_4x4_noisy_hp_{freq_threshold[i]}_mutual_bound_{mutual_info}.pth\"\n",
    "        add_noise = True\n",
    "        noise_covar = torch.load(path_variance_matrix_tensor)\n",
    "        noise_sample = torch.from_numpy(np.random.multivariate_normal(mean, noise_covar.detach().numpy(), 1)).to(torch.float)\n",
    "        l2_norm_list.append(np.linalg.norm(noise_sample.detach().numpy()))\n",
    "\n",
    "# print(np.sqrt(np.min(np.array(l2_norm_list)))/40.6)\n",
    "# print(np.sqrt(np.max(np.array(l2_norm_list)))/40.6)\n",
    "print(np.min(np.array(l2_norm_list))/40.6)\n",
    "print(np.max(np.array(l2_norm_list))/40.6)"
   ]
  },
  {
   "cell_type": "code",
   "execution_count": 2,
   "metadata": {},
   "outputs": [
    {
     "data": {
      "image/png": "[encoded data removed]",
      "text/plain": [
       "<Figure size 1300x550 with 1 Axes>"
      ]
     },
     "metadata": {},
     "output_type": "display_data"
    }
   ],
   "source": [
    "import matplotlib.pyplot as plt\n",
    "\n",
    "\n",
    "privacy_guarantee = [[0.007633587786, 0.007633587786, 0.007633587786, 0.01526717557, 0.007633587786, 0.007633587786, 0.007633587786, 0.007633587786, 0.007633587786, 0.007633587786, 0.007633587786, 0.007633587786],\n",
    "[0.007633587786, 0.01526717557, 0.02290076336, 0.02290076336, 0.007633587786, 0.007633587786, 0.007633587786, 0.007633587786, 0.007633587786, 0.007633587786, 0.007633587786, 0.03053435115],\n",
    "[0.8396946565, 0.1832061069, 0.2671755725, 0.2977099237, 0.2595419847, 0.1145038168, 0.02290076336, 0.04580152672, 0.04580152672, 0.02290076336, 0.007633587786, 0.01526717557],\n",
    "[1, 1, 1, 1, 1, 1, 1, 1, 0.8702290076, 0.5114503817, 0.320610687, 0.09160305344]]\n",
    "x = [i for i in range(len(privacy_guarantee[0]))]\n",
    "\n",
    "SMALL_SIZE = 18\n",
    "MEDIUM_SIZE = 22\n",
    "BIGGER_SIZE = 24\n",
    "\n",
    "# create data\n",
    "fig = plt.figure(figsize=[13,5.5])\n",
    "ax = plt.subplot(111)\n",
    "shape_list = [\"o\", \"*\", \"X\", \"p\", \">\", \"d\", \"s\", \"H\", \"<\"]\n",
    "legend_list = [\"A\", \"B\", \"C\", \"D\", \"E\", \"F\", \"G\", \"H\"]\n",
    "color_list = [\"#B46504\", \"#23445D\", \"#A31F34\", \"#D6B656\", \"#9673A6\", \"#B85450\", \"#6C8EBF\", \"#82B366\"]\n",
    "plt.rc('font', size=BIGGER_SIZE)          # controls default text sizes\n",
    "plt.rc('axes', titlesize=BIGGER_SIZE)     # fontsize of the axes title\n",
    "plt.rc('axes', labelsize=BIGGER_SIZE)    # fontsize of the x and y labels\n",
    "plt.rc('xtick', labelsize=BIGGER_SIZE)    # fontsize of the tick labels\n",
    "plt.rc('ytick', labelsize=BIGGER_SIZE)    # fontsize of the tick labels\n",
    "plt.rc('legend', fontsize=BIGGER_SIZE)    # legend fontsize\n",
    "\n",
    "plt_handler = []\n",
    "plt_handler.append(ax.plot(x, privacy_guarantee[0][::-1], color=\"k\", marker=\".\", markerfacecolor=\"#ffffff\", markersize=8, linewidth=2, linestyle=\"dashed\", markeredgewidth=4)[0])\n",
    "plt_handler.append(ax.plot(x, privacy_guarantee[1][::-1], marker=\"o\", markerfacecolor=\"#ffffff\", color=color_list[3], markersize=4, linewidth=2, markeredgewidth=4)[0])\n",
    "plt_handler.append(ax.plot(x, privacy_guarantee[2][::-1], marker=\"*\", markerfacecolor=\"#ffffff\", color=color_list[0], markersize=16, linewidth=2, markeredgewidth=4)[0])\n",
    "plt_handler.append(ax.plot(x, privacy_guarantee[3][::-1], marker=\"X\", markerfacecolor=\"#ffffff\", color=\"#A31F34\", markersize=16, linewidth=2, markeredgewidth=4)[0])\n",
    "\n",
    "plt.ylabel(\"Successful Rate (SR)\", fontsize=BIGGER_SIZE)\n",
    "plt.xlabel(\"Number of Outsourced Components\", fontsize=BIGGER_SIZE)\n",
    "# plt.xticks([i for i in range(int(max(tflop_list)+1))], [str(i) for i in range(int(max(tflop_list)+1))], fontsize=MEDIUM_SIZE)\n",
    "# plt.title(\"Scores by Teams in 4 Rounds\")\n",
    "plt.legend(plt_handler, [r\"strong noise\", r\"medium noise\", r\"little noise\", r\"No noise\"], loc='best', ncol=1, fontsize=MEDIUM_SIZE)\n",
    "\n",
    "# plt.legend([\"zcu104\", 'Alveo U280'])#, fontsize=SMALL_SIZE)\n",
    "plt.rc('font', size=BIGGER_SIZE)          # controls default text sizes\n",
    "plt.rc('axes', titlesize=BIGGER_SIZE)     # fontsize of the axes title\n",
    "plt.rc('axes', labelsize=BIGGER_SIZE)    # fontsize of the x and y labels\n",
    "plt.rc('xtick', labelsize=BIGGER_SIZE)    # fontsize of the tick labels\n",
    "plt.rc('ytick', labelsize=BIGGER_SIZE)    # fontsize of the tick labels\n",
    "plt.rc('legend', fontsize=BIGGER_SIZE)    # legend fontsize\n",
    "x_labels = [1, 2, 3, 4, 5, 6, 7, 8, 10, 12, 13]\n",
    "plt.xticks([i for i in range(1,12)], [str(label_x) for label_x in x_labels])#, rotation=20)\n",
    "\n",
    "plt.savefig('empirical_attack_successful_rate.pdf', bbox_inches=\"tight\", transparent=True) \n",
    "\n",
    "plt.show()"
   ]
  },
  {
   "cell_type": "code",
   "execution_count": null,
   "metadata": {},
   "outputs": [],
   "source": []
  }
 ],
 "metadata": {
  "kernelspec": {
   "display_name": "pica37",
   "language": "python",
   "name": "python3"
  },
  "language_info": {
   "codemirror_mode": {
    "name": "ipython",
    "version": 3
   },
   "file_extension": ".py",
   "mimetype": "text/x-python",
   "name": "python",
   "nbconvert_exporter": "python",
   "pygments_lexer": "ipython3",
   "version": "3.7.16"
  }
 },
 "nbformat": 4,
 "nbformat_minor": 2
}

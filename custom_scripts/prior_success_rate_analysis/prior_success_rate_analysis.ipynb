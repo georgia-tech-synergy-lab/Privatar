{
 "cells": [
  {
   "cell_type": "code",
   "execution_count": 2,
   "metadata": {},
   "outputs": [
    {
     "name": "stderr",
     "output_type": "stream",
     "text": [
      "/home/jianming/conda/envs/pica37/lib/python3.7/site-packages/tqdm/auto.py:21: TqdmWarning: IProgress not found. Please update jupyter and ipywidgets. See https://ipywidgets.readthedocs.io/en/stable/user_install.html\n",
      "  from .autonotebook import tqdm as notebook_tqdm\n"
     ]
    }
   ],
   "source": [
    "import os\n",
    "import cv2\n",
    "import math\n",
    "import torch\n",
    "import numpy as np\n",
    "from PIL import Image\n",
    "import seaborn as sns\n",
    "import matplotlib.pyplot as plt\n",
    "from warnings import filterwarnings"
   ]
  },
  {
   "cell_type": "code",
   "execution_count": 3,
   "metadata": {},
   "outputs": [],
   "source": [
    "overall_img_path_list = []\n",
    "path_prefix = \"/home/jianming/work/multiface/dataset/m--20180227--0000--6795937--GHS/unwrapped_uv_1024/\"\n",
    "all_dir = os.listdir(path_prefix)\n",
    "# print(all_dir)\n",
    "for sgl_dir in all_dir:\n",
    "    path_average = os.path.join(path_prefix + sgl_dir, \"average\")\n",
    "    for image in os.listdir(path_average):\n",
    "        # print(os.path.join(path_average, image))\n",
    "        overall_img_path_list.append(os.path.join(path_average, image))\n",
    "\n",
    "def calculate_l2_norm(image_path1, image_path2):\n",
    "    # Load images\n",
    "    image1 = cv2.imread(image_path1, cv2.IMREAD_GRAYSCALE)\n",
    "    image2 = cv2.imread(image_path2, cv2.IMREAD_GRAYSCALE)\n",
    "\n",
    "    # Check if images are loaded\n",
    "    if image1 is None or image2 is None:\n",
    "        raise ValueError(\"One or both images could not be loaded. Check the image paths.\")\n",
    "\n",
    "    # Ensure the images are of the same size\n",
    "    if image1.shape != image2.shape:\n",
    "        raise ValueError(\"Images must have the same dimensions for L2 norm calculation.\")\n",
    "\n",
    "    # Flatten the images into vectors\n",
    "    vector1 = image1.flatten()\n",
    "    vector2 = image2.flatten()\n",
    "\n",
    "    # Calculate the L2 norm (Euclidean distance)\n",
    "    l2_norm = np.linalg.norm(vector1 - vector2)\n",
    "\n",
    "    return l2_norm"
   ]
  },
  {
   "cell_type": "code",
   "execution_count": 4,
   "metadata": {},
   "outputs": [],
   "source": [
    "num_images = len(overall_img_path_list)\n",
    "\n",
    "l2_norm_expression_list = np.zeros((len(overall_img_path_list),len(overall_img_path_list)))\n",
    "for i in range(num_images):\n",
    "    image1 = cv2.imread(overall_img_path_list[i], cv2.IMREAD_GRAYSCALE).flatten()\n",
    "    for j in range(num_images):\n",
    "        image2 = cv2.imread(overall_img_path_list[j], cv2.IMREAD_GRAYSCALE).flatten()\n",
    "        l2_norm_expression_list[i][j] = np.linalg.norm(image1 - image2)"
   ]
  },
  {
   "cell_type": "code",
   "execution_count": null,
   "metadata": {},
   "outputs": [],
   "source": [
    "with open('l2_norm_unwrapp_texture_array.npy', 'wb') as f:\n",
    "    np.save(f, l2_norm_expression_list)\n",
    "\n",
    "l2_norm_threshold_list = [100, 1000, 10000, 100000]\n",
    "for l2_norm_threshold in l2_norm_threshold_list:\n",
    "    counts = np.max(np.sum(l2_norm_expression_list < l2_norm_threshold, axis=1))\n",
    "    print(f\"maximal_number_expression_within_l2norm: {counts}\")"
   ]
  }
 ],
 "metadata": {
  "kernelspec": {
   "display_name": "pica37",
   "language": "python",
   "name": "python3"
  },
  "language_info": {
   "codemirror_mode": {
    "name": "ipython",
    "version": 3
   },
   "file_extension": ".py",
   "mimetype": "text/x-python",
   "name": "python",
   "nbconvert_exporter": "python",
   "pygments_lexer": "ipython3",
   "version": "3.7.16"
  }
 },
 "nbformat": 4,
 "nbformat_minor": 2
}

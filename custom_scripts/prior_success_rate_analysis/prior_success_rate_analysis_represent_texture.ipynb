{
 "cells": [
  {
   "cell_type": "code",
   "execution_count": 1,
   "metadata": {},
   "outputs": [
    {
     "name": "stderr",
     "output_type": "stream",
     "text": [
      "/home/jianming/conda/envs/pica37/lib/python3.7/site-packages/tqdm/auto.py:21: TqdmWarning: IProgress not found. Please update jupyter and ipywidgets. See https://ipywidgets.readthedocs.io/en/stable/user_install.html\n",
      "  from .autonotebook import tqdm as notebook_tqdm\n"
     ]
    }
   ],
   "source": [
    "import os\n",
    "import cv2\n",
    "import math\n",
    "import torch\n",
    "import numpy as np\n",
    "from PIL import Image\n",
    "import seaborn as sns\n",
    "import matplotlib.pyplot as plt"
   ]
  },
  {
   "cell_type": "code",
   "execution_count": 2,
   "metadata": {},
   "outputs": [],
   "source": [
    "overall_img_path_list = []\n",
    "path_prefix = \"/home/jianming/work/multiface/dataset/m--20180227--0000--6795937--GHS/unwrapped_uv_1024/\"\n",
    "all_dir = os.listdir(path_prefix)\n",
    "# print(all_dir)\n",
    "for sgl_dir in all_dir:\n",
    "    path_average = os.path.join(path_prefix + sgl_dir, \"average\")\n",
    "        # print(os.path.join(path_average, image))\n",
    "    overall_img_path_list.append(os.path.join(path_average, os.listdir(path_average)[0]))\n",
    "\n",
    "def calculate_l2_norm(image_path1, image_path2):\n",
    "    # Load images\n",
    "    image1 = cv2.imread(image_path1, cv2.IMREAD_GRAYSCALE)\n",
    "    image2 = cv2.imread(image_path2, cv2.IMREAD_GRAYSCALE)\n",
    "\n",
    "    # Check if images are loaded\n",
    "    if image1 is None or image2 is None:\n",
    "        raise ValueError(\"One or both images could not be loaded. Check the image paths.\")\n",
    "\n",
    "    # Ensure the images are of the same size\n",
    "    if image1.shape != image2.shape:\n",
    "        raise ValueError(\"Images must have the same dimensions for L2 norm calculation.\")\n",
    "\n",
    "    # Flatten the images into vectors\n",
    "    vector1 = image1.flatten()\n",
    "    vector2 = image2.flatten()\n",
    "\n",
    "    # Calculate the L2 norm (Euclidean distance)\n",
    "    l2_norm = np.linalg.norm(vector1 - vector2)\n",
    "\n",
    "    return l2_norm"
   ]
  },
  {
   "cell_type": "code",
   "execution_count": 3,
   "metadata": {},
   "outputs": [
    {
     "name": "stdout",
     "output_type": "stream",
     "text": [
      "67\n"
     ]
    }
   ],
   "source": [
    "num_images = len(overall_img_path_list)\n",
    "print(num_images)"
   ]
  },
  {
   "cell_type": "markdown",
   "metadata": {},
   "source": [
    "# Calculate L2 Norm - 6795937"
   ]
  },
  {
   "cell_type": "code",
   "execution_count": 5,
   "metadata": {},
   "outputs": [],
   "source": [
    "num_images = len(overall_img_path_list)\n",
    "\n",
    "l2_norm_expression_list = np.zeros((len(overall_img_path_list),len(overall_img_path_list)))\n",
    "for i in range(num_images):\n",
    "    image1 = cv2.imread(overall_img_path_list[i], cv2.IMREAD_GRAYSCALE).flatten()\n",
    "    for j in range(num_images):\n",
    "        image2 = cv2.imread(overall_img_path_list[j], cv2.IMREAD_GRAYSCALE).flatten()\n",
    "        l2_norm_expression_list[i][j] = np.linalg.norm(image1 - image2)"
   ]
  },
  {
   "cell_type": "code",
   "execution_count": 19,
   "metadata": {},
   "outputs": [
    {
     "name": "stdout",
     "output_type": "stream",
     "text": [
      "maximal_number_expression_within_l2norm: [1 1 1 1 1 1 1 1 1 1 1 1 1 1 1 1 1 1 1 1 1 1 1 1 1 1 1 1 1 1 1 1 1 1 1 1 1\n",
      " 1 1 1 1 1 1 1 1 1 1 1 1 1 1 1 1 1 1 1 1 1 1 1 1 1 1 1 1 1 1]\n",
      "maximal_number_expression_within_l2norm: [1 1 1 1 1 1 1 1 1 1 1 1 1 1 1 1 1 1 1 1 1 1 1 1 1 1 1 1 1 1 1 1 1 1 1 1 1\n",
      " 1 1 1 1 1 1 1 1 1 1 1 1 1 1 1 1 1 1 1 1 1 1 1 1 1 1 1 1 1 1]\n",
      "maximal_number_expression_within_l2norm: [21  4  1  6  1  1 10  1  3  1  9  1  3  1  1  3  5 14  4  3  1 10  1  1\n",
      "  7  1  1  2  7  1  1  1  1  1  1  1  1  2  3 13  1  2  1 19 12  1  1  1\n",
      "  7  1  2  1  1  1  1 14  2  5  3  2 16  1 25  1  2  6  1]\n",
      "maximal_number_expression_within_l2norm: [67 67 23 65 48 39 67 66 64 64 67 19 65 65 61 67 67 67 66 65 53 67 65 55\n",
      " 67 66 33 63 67  5 53 55 67 67 48 61 53 64 67 67 28 66  2 67 67 64 63 67\n",
      " 66 61 67 47  8  8 52 67 66 67 67 58 67 20 67 56 66 67 67]\n",
      "maximal_number_expression_within_l2norm: [67 67 67 67 67 67 67 67 67 67 67 67 67 67 67 67 67 67 67 67 67 67 67 67\n",
      " 67 67 67 67 67 67 67 67 67 67 67 67 67 67 67 67 67 67 67 67 67 67 67 67\n",
      " 67 67 67 67 67 67 67 67 67 67 67 67 67 67 67 67 67 67 67]\n"
     ]
    }
   ],
   "source": [
    "import numpy as np\n",
    "l2_norm_expression_array = np.array(l2_norm_expression_list)\n",
    "with open('l2_norm_unwrapp_texture_array_represent_one_per_category.npy', 'wb') as f:\n",
    "    np.save(f, l2_norm_expression_list)\n",
    "\n",
    "l2_norm_threshold_list = [100000, 125000, 150000, 175000, 200000]\n",
    "counts_with_l2_bound_list = []\n",
    "for l2_norm_threshold in l2_norm_threshold_list:\n",
    "    counts = np.count_nonzero(l2_norm_expression_array < l2_norm_threshold, axis=1)\n",
    "    counts_with_l2_bound_list.append(counts)\n",
    "    print(f\"maximal_number_expression_within_l2norm: {counts}\")"
   ]
  },
  {
   "cell_type": "code",
   "execution_count": 23,
   "metadata": {},
   "outputs": [
    {
     "name": "stdout",
     "output_type": "stream",
     "text": [
      "67\n",
      "67\n",
      "280\n",
      "3790\n",
      "4489\n",
      "[67, 67, 280, 3790, 4489]\n"
     ]
    }
   ],
   "source": [
    "overall_within_l2_bound = []\n",
    "for count_list in counts_with_l2_bound_list:\n",
    "    print(np.sum(count_list))\n",
    "    overall_within_l2_bound.append(np.sum(count_list))\n",
    "print(overall_within_l2_bound)"
   ]
  },
  {
   "cell_type": "code",
   "execution_count": 25,
   "metadata": {},
   "outputs": [
    {
     "data": {
      "text/plain": [
       "array([[     0.        , 152588.06915352, 151431.88631197, ...,\n",
       "        147702.48832027, 143043.52059426, 160207.71363452],\n",
       "       [172797.57257554,      0.        , 154180.1038526 , ...,\n",
       "        154259.55043368, 161771.31226519, 160213.81467901],\n",
       "       [183527.94385597, 180819.18705713,      0.        , ...,\n",
       "        178735.57526693, 178910.21162583, 179024.90952379],\n",
       "       ...,\n",
       "       [174549.98605557, 167371.79902242, 156548.96142102, ...,\n",
       "             0.        , 165219.28052137, 160179.38974163],\n",
       "       [166711.31364128, 158555.02101163, 154856.805133  , ...,\n",
       "        152127.51735304,      0.        , 165335.86714322],\n",
       "       [169044.7655386 , 165229.70846068, 156168.32525836, ...,\n",
       "        154379.39168814, 160538.19773499,      0.        ]])"
      ]
     },
     "execution_count": 25,
     "metadata": {},
     "output_type": "execute_result"
    }
   ],
   "source": [
    "l2_norm_expression_list"
   ]
  },
  {
   "cell_type": "code",
   "execution_count": 29,
   "metadata": {},
   "outputs": [
    {
     "data": {
      "text/plain": [
       "(array([1., 0., 0., ..., 0., 0., 1.]),\n",
       " array([127746.76833486, 127780.84697084, 127814.92560681, ...,\n",
       "        195835.88301818, 195869.96165416, 195904.04029014]),\n",
       " <BarContainer object of 2000 artists>)"
      ]
     },
     "execution_count": 29,
     "metadata": {},
     "output_type": "execute_result"
    },
    {
     "data": {
      "image/png": "[encoded data removed]",
      "text/plain": [
       "<Figure size 640x480 with 1 Axes>"
      ]
     },
     "metadata": {},
     "output_type": "display_data"
    }
   ],
   "source": [
    "import matplotlib.pyplot as plt\n",
    "(row, col) = np.nonzero(l2_norm_expression_list)\n",
    "l2_norm_non_zero_expression_list = l2_norm_expression_array[row, col]\n",
    "plt.hist(l2_norm_non_zero_expression_list, bins=2000)"
   ]
  },
  {
   "cell_type": "code",
   "execution_count": 24,
   "metadata": {},
   "outputs": [
    {
     "name": "stdout",
     "output_type": "stream",
     "text": [
      "0.0 195904.04029013796\n"
     ]
    }
   ],
   "source": [
    "print(np.min(l2_norm_expression_array), np.max(l2_norm_expression_array))"
   ]
  },
  {
   "cell_type": "markdown",
   "metadata": {},
   "source": [
    "# Calculate MSE -- 6795937"
   ]
  },
  {
   "cell_type": "code",
   "execution_count": 30,
   "metadata": {},
   "outputs": [],
   "source": [
    "overall_img_path_list = []\n",
    "path_prefix = \"/home/jianming/work/multiface/dataset/m--20180227--0000--6795937--GHS/unwrapped_uv_1024/\"\n",
    "all_dir = os.listdir(path_prefix)\n",
    "# print(all_dir)\n",
    "for sgl_dir in all_dir:\n",
    "    path_average = os.path.join(path_prefix + sgl_dir, \"average\")\n",
    "        # print(os.path.join(path_average, image))\n",
    "    overall_img_path_list.append(os.path.join(path_average, os.listdir(path_average)[0]))\n"
   ]
  },
  {
   "cell_type": "code",
   "execution_count": 31,
   "metadata": {},
   "outputs": [],
   "source": [
    "num_images = len(overall_img_path_list)\n",
    "\n",
    "mse_expression_list = np.zeros((len(overall_img_path_list),len(overall_img_path_list)))\n",
    "for i in range(num_images):\n",
    "    image1 = cv2.imread(overall_img_path_list[i], cv2.IMREAD_GRAYSCALE).flatten()\n",
    "    for j in range(num_images):\n",
    "        image2 = cv2.imread(overall_img_path_list[j], cv2.IMREAD_GRAYSCALE).flatten()\n",
    "        mse_expression_list[i][j] = np.square(image1 - image2).mean()"
   ]
  },
  {
   "cell_type": "code",
   "execution_count": 32,
   "metadata": {},
   "outputs": [
    {
     "name": "stdout",
     "output_type": "stream",
     "text": [
      "maximal_number_expression_within_mse: [67 67 67 67 67 67 67 67 67 67 67 67 67 67 67 67 67 67 67 67 67 67 67 67\n",
      " 67 67 67 67 67 67 67 67 67 67 67 67 67 67 67 67 67 67 67 67 67 67 67 67\n",
      " 67 67 67 67 67 67 67 67 67 67 67 67 67 67 67 67 67 67 67]\n",
      "maximal_number_expression_within_mse: [67 67 67 67 67 67 67 67 67 67 67 67 67 67 67 67 67 67 67 67 67 67 67 67\n",
      " 67 67 67 67 67 67 67 67 67 67 67 67 67 67 67 67 67 67 67 67 67 67 67 67\n",
      " 67 67 67 67 67 67 67 67 67 67 67 67 67 67 67 67 67 67 67]\n",
      "maximal_number_expression_within_mse: [67 67 67 67 67 67 67 67 67 67 67 67 67 67 67 67 67 67 67 67 67 67 67 67\n",
      " 67 67 67 67 67 67 67 67 67 67 67 67 67 67 67 67 67 67 67 67 67 67 67 67\n",
      " 67 67 67 67 67 67 67 67 67 67 67 67 67 67 67 67 67 67 67]\n",
      "maximal_number_expression_within_mse: [67 67 67 67 67 67 67 67 67 67 67 67 67 67 67 67 67 67 67 67 67 67 67 67\n",
      " 67 67 67 67 67 67 67 67 67 67 67 67 67 67 67 67 67 67 67 67 67 67 67 67\n",
      " 67 67 67 67 67 67 67 67 67 67 67 67 67 67 67 67 67 67 67]\n",
      "maximal_number_expression_within_mse: [67 67 67 67 67 67 67 67 67 67 67 67 67 67 67 67 67 67 67 67 67 67 67 67\n",
      " 67 67 67 67 67 67 67 67 67 67 67 67 67 67 67 67 67 67 67 67 67 67 67 67\n",
      " 67 67 67 67 67 67 67 67 67 67 67 67 67 67 67 67 67 67 67]\n"
     ]
    }
   ],
   "source": [
    "import numpy as np\n",
    "mse_expression_array = np.array(mse_expression_list)\n",
    "with open('mse_unwrapp_texture_array_represent_one_per_category.npy', 'wb') as f:\n",
    "    np.save(f, mse_expression_list)\n",
    "\n",
    "mse_threshold_list = [2, 5, 10, 15, 20, 25, 30, 35, 40, 45, 50]\n",
    "counts_with_l2_bound_list = []\n",
    "for mse_threshold in mse_threshold_list:\n",
    "    counts = np.count_nonzero(mse_expression_array < mse_threshold, axis=1)\n",
    "    counts_with_l2_bound_list.append(counts)\n",
    "    print(f\"maximal_number_expression_within_mse: {counts}\")"
   ]
  },
  {
   "cell_type": "code",
   "execution_count": 33,
   "metadata": {},
   "outputs": [
    {
     "data": {
      "text/plain": [
       "(array([2., 0., 0., ..., 0., 0., 2.]),\n",
       " array([ 1.82006741,  1.8437331 ,  1.86739879, ..., 49.10412449,\n",
       "        49.12779018, 49.15145588]),\n",
       " <BarContainer object of 2000 artists>)"
      ]
     },
     "execution_count": 33,
     "metadata": {},
     "output_type": "execute_result"
    },
    {
     "data": {
      "image/png": "[encoded data removed]",
      "text/plain": [
       "<Figure size 640x480 with 1 Axes>"
      ]
     },
     "metadata": {},
     "output_type": "display_data"
    }
   ],
   "source": [
    "import matplotlib.pyplot as plt\n",
    "(row, col) = np.nonzero(mse_expression_list)\n",
    "mse_non_zero_expression_list = mse_expression_array[row, col]\n",
    "plt.hist(mse_non_zero_expression_list, bins=2000)"
   ]
  },
  {
   "cell_type": "markdown",
   "metadata": {},
   "source": [
    "# Calculate L2 Norm - 6795937 + 6674443\n"
   ]
  },
  {
   "cell_type": "code",
   "execution_count": 4,
   "metadata": {},
   "outputs": [],
   "source": [
    "overall_img_path_list = []\n",
    "path_prefix = \"/home/jianming/work/multiface/dataset/m--20180227--0000--6795937--GHS/unwrapped_uv_1024/\"\n",
    "all_dir = os.listdir(path_prefix)\n",
    "for sgl_dir in all_dir:\n",
    "    path_average = os.path.join(path_prefix + sgl_dir, \"average\")\n",
    "    overall_img_path_list.append(os.path.join(path_average, os.listdir(path_average)[0]))\n",
    "\n",
    "path_prefix = \"/scratch1/jianming/multiface/dataset/m--20180226--0000--6674443--GHS/unwrapped_uv_1024/\"\n",
    "all_dir = os.listdir(path_prefix)\n",
    "for sgl_dir in all_dir:\n",
    "    path_average = os.path.join(path_prefix + sgl_dir, \"average\")\n",
    "    overall_img_path_list.append(os.path.join(path_average, os.listdir(path_average)[0]))"
   ]
  },
  {
   "cell_type": "code",
   "execution_count": 5,
   "metadata": {},
   "outputs": [],
   "source": [
    "num_images = len(overall_img_path_list)\n",
    "\n",
    "l2_norm_expression_list = np.zeros((len(overall_img_path_list),len(overall_img_path_list)))\n",
    "for i in range(num_images):\n",
    "    image1 = cv2.imread(overall_img_path_list[i], cv2.IMREAD_GRAYSCALE).flatten()\n",
    "    for j in range(num_images):\n",
    "        image2 = cv2.imread(overall_img_path_list[j], cv2.IMREAD_GRAYSCALE).flatten()\n",
    "        l2_norm_expression_list[i][j] = np.linalg.norm(image1 - image2)"
   ]
  },
  {
   "cell_type": "code",
   "execution_count": 7,
   "metadata": {},
   "outputs": [
    {
     "name": "stdout",
     "output_type": "stream",
     "text": [
      "maximal_number_expression_within_l2norm: [1 1 1 1 1 1 1 1 1 1 1 1 1 1 1 1 1 1 1 1 1 1 1 1 1 1 1 1 1 1 1 1 1 1 1 1 1\n",
      " 1 1 1 1 1 1 1 1 1 1 1 1 1 1 1 1 1 1 1 1 1 1 1 1 1 1 1 1 1 1 1 1 1 1 1 1 1\n",
      " 1 1 1 1 1 1 1 1 1 1 1 1 1 1 1 1 1 1 1 1 1 1 1 1 1 1 1 1 1 1 1 1 1 1 1 1 1\n",
      " 1 1 1 1 1 1 1 1 1 1 1 1 1 1 1 1 1 1 1 1]\n",
      "maximal_number_expression_within_l2norm: [1 1 1 1 1 1 1 1 1 1 1 1 1 1 1 1 1 1 1 1 1 1 1 1 1 1 1 1 1 1 1 1 1 1 1 1 1\n",
      " 1 1 1 1 1 1 1 1 1 1 1 1 1 1 1 1 1 1 1 1 1 1 1 1 1 1 1 1 1 1 1 1 1 1 1 1 1\n",
      " 1 1 1 1 1 1 1 1 1 1 1 1 1 1 1 1 1 1 1 1 1 1 1 1 1 1 1 1 1 1 1 1 1 1 1 1 1\n",
      " 1 1 1 6 1 1 2 1 7 1 2 1 1 2 1 1 1 1 1 1]\n",
      "maximal_number_expression_within_l2norm: [58 26  8 28  1 10 31 10 22  7 30  1 20  4  7 25 22 50 20 21 22 21  1 12\n",
      " 25  1  8 24 39  1 19 10  5 13 23  7  5 27 14 36  6 12  3 51 35  7 12  7\n",
      " 39  1 16 17  1  1 18 36  8 26 22 15 26  1 49  1 21 29 12  1 26  5  2 20\n",
      "  3  2 18  3 42  2 22 15  8  3  1  8 18 18  1  1  3  2  8 12  1 10  1  2\n",
      " 27  3 14  1  6 17  4  1  1  6  2 20 20  1  2  3 21  7 52 12 13 38 40 55\n",
      " 33 47 10  3 30 19  4  1 49 33  2]\n",
      "maximal_number_expression_within_l2norm: [131 131  87 129 112 103 131 130 128 128 131  83 129 129 125 131 131 131\n",
      " 130 129 117 131 129 119 131 130  97 127 131  69 117 119 131 131 112 125\n",
      " 117 128 131 131  92 130  66 131 131 128 127 131 130 125 131 111  72  72\n",
      " 116 131 130 131 131 122 131  84 131 120 130 131 131  33  62  49  34  57\n",
      "  46  41  64  44  65  32  58  58  50  58  27  59  64  57  22  23  52  35\n",
      "  63  56  25  60   6  50  64  38  62  22  49  57  62  30  50  46  48  61\n",
      "  63  20  30  48  58  49  64  58  64  63  63  64  64  65  55  35  63  62\n",
      "  52  20  64  63  25]\n",
      "maximal_number_expression_within_l2norm: [131 131 131 131 131 131 131 131 131 131 131 131 131 131 131 131 131 131\n",
      " 131 131 131 131 131 131 131 131 131 131 131 131 131 131 131 131 131 131\n",
      " 131 131 131 131 131 131 131 131 131 131 131 131 131 131 131 131 131 131\n",
      " 131 131 131 131 131 131 131 131 131 131 131 131 131 131 131 131 131 131\n",
      " 131 131 131 131 131 131 131 131 131 131 131 131 131 131 131 129 131 131\n",
      " 131 131 131 131 131 131 131 131 131 131 131 131 131 131 131 131 131 131\n",
      " 131 131 131 131 131 131 131 131 131 131 131 131 131 131 131 131 131 131\n",
      " 131 131 131 131 131]\n",
      "0.0 201299.51588367022\n"
     ]
    }
   ],
   "source": [
    "import numpy as np\n",
    "l2_norm_expression_array = np.array(l2_norm_expression_list)\n",
    "with open('l2_norm_unwrapp_texture_array_represent_one_per_category_6674443_6795937.npy', 'wb') as f:\n",
    "    np.save(f, l2_norm_expression_list)\n",
    "\n",
    "l2_norm_threshold_list = [100000, 125000, 150000, 175000, 200000]\n",
    "counts_with_l2_bound_list = []\n",
    "for l2_norm_threshold in l2_norm_threshold_list:\n",
    "    counts = np.count_nonzero(l2_norm_expression_array < l2_norm_threshold, axis=1)\n",
    "    counts_with_l2_bound_list.append(counts)\n",
    "    print(f\"maximal_number_expression_within_l2norm: {counts}\")\n",
    "print(np.min(l2_norm_expression_array), np.max(l2_norm_expression_array))"
   ]
  },
  {
   "cell_type": "code",
   "execution_count": 13,
   "metadata": {},
   "outputs": [
    {
     "data": {
      "image/png": "[encoded data removed]",
      "text/plain": [
       "<Figure size 640x480 with 1 Axes>"
      ]
     },
     "metadata": {},
     "output_type": "display_data"
    }
   ],
   "source": [
    "import matplotlib.pyplot as plt\n",
    "(row, col) = np.nonzero(l2_norm_expression_list)\n",
    "l2_norm_non_zero_expression_list = l2_norm_expression_array[row, col]\n",
    "plt.hist(l2_norm_non_zero_expression_list, bins=2000)\n",
    "\n",
    "SMALL_SIZE = 18\n",
    "MEDIUM_SIZE = 20\n",
    "BIGGER_SIZE = 22\n",
    "\n",
    "plt.ylabel(\"Probability Distribution\", fontsize=SMALL_SIZE)\n",
    "plt.xlabel(\"L2 Norm Value\", fontsize=SMALL_SIZE)\n",
    "# plt.xticks([i for i in range(int(max(tflop_list)+1))], [str(i) for i in range(int(max(tflop_list)+1))], fontsize=MEDIUM_SIZE)\n",
    "# plt.title(\"Scores by Teams in 4 Rounds\")\n",
    "\n",
    "# plt.legend([\"zcu104\", 'Alveo U280'])#, fontsize=SMALL_SIZE)\n",
    "plt.rc('font', size=BIGGER_SIZE)          # controls default text sizes\n",
    "plt.rc('axes', titlesize=BIGGER_SIZE)     # fontsize of the axes title\n",
    "plt.rc('axes', labelsize=BIGGER_SIZE)    # fontsize of the x and y labels\n",
    "plt.rc('xtick', labelsize=BIGGER_SIZE)    # fontsize of the tick labels\n",
    "plt.rc('ytick', labelsize=BIGGER_SIZE)    # fontsize of the tick labels\n",
    "plt.rc('legend', fontsize=BIGGER_SIZE)    # legend fontsize\n",
    "plt.xticks(np.arange(120000, 200000, 25000))\n",
    "\n",
    "plt.savefig('L2_norm_full_texture_info.pdf', bbox_inches=\"tight\", transparent=True) \n",
    "\n",
    "plt.show()"
   ]
  },
  {
   "cell_type": "code",
   "execution_count": 40,
   "metadata": {},
   "outputs": [],
   "source": [
    "num_images = len(overall_img_path_list)\n",
    "\n",
    "mse_expression_list = np.zeros((len(overall_img_path_list),len(overall_img_path_list)))\n",
    "for i in range(num_images):\n",
    "    image1 = cv2.imread(overall_img_path_list[i], cv2.IMREAD_GRAYSCALE).flatten()\n",
    "    for j in range(num_images):\n",
    "        image2 = cv2.imread(overall_img_path_list[j], cv2.IMREAD_GRAYSCALE).flatten()\n",
    "        mse_expression_list[i][j] = np.square(image1 - image2).mean()"
   ]
  },
  {
   "cell_type": "code",
   "execution_count": 41,
   "metadata": {},
   "outputs": [
    {
     "name": "stdout",
     "output_type": "stream",
     "text": [
      "maximal_number_expression_within_mse: [2 1 1 1 1 1 1 1 1 1 1 1 1 1 1 1 1 1 1 1 1 1 1 1 1 1 1 1 1 1 1 1 1 1 1 1 1\n",
      " 1 1 1 1 1 1 2 1 1 1 1 1 1 1 1 1 1 1 1 1 1 1 1 1 1 1 1 1 1 1 1 1 1 1 1 1 1\n",
      " 1 1 1 1 1 1 1 1 1 1 1 1 1 1 1 1 1 1 1 1 1 1 1 1 1 1 1 1 1 1 1 1 1 1 1 1 1\n",
      " 1 1 1 1 1 1 1 1 1 1 1 1 1 1 1 1 1 1 1 1]\n",
      "maximal_number_expression_within_mse: [5 1 1 2 1 1 5 1 1 1 1 1 1 1 1 2 5 3 2 5 1 1 1 1 1 1 1 1 4 1 1 1 1 1 1 1 1\n",
      " 1 1 3 1 1 1 5 3 1 1 1 3 1 1 1 1 1 2 3 1 1 2 2 1 1 1 1 5 6 1 1 2 1 1 2 1 1\n",
      " 1 1 1 1 2 1 1 1 1 1 1 1 1 1 1 1 1 2 1 1 1 1 1 1 1 1 2 2 1 1 1 1 1 2 1 1 1\n",
      " 1 2 1 2 1 1 1 3 1 1 1 1 1 2 2 1 1 1 2 1]\n",
      "maximal_number_expression_within_mse: [28 22  1 26  1 23 32  1 11 12 33  1 29  1  7 25 32 24 30 28 21  1  1  2\n",
      " 26  1  1  6 23  1 30 21  1  1  1  5  1  3  8 32  1  1  1 29 30  1  1  1\n",
      " 21  1  1 18  1  1 30 31  5 26 31 26  2  1 21  1 34 30 20  1 14  6  1  8\n",
      "  6  1  1  1  2  1  8  2  6  1  1  1  2  5  1  1  1  1  2 13  1  6  1  1\n",
      "  2  4  1  1 10  9  1  1  1  1  1 13  1  1  2  1  7 11 14  8  1 10 17  8\n",
      "  2 10  3  3 14 15  3  1  9 11  3]\n",
      "maximal_number_expression_within_mse: [42 43 11 43  1 45 45  6 41 41 45  1 43  1 39 43 44 38 46 44 36 23  1 13\n",
      " 42  1  3 39 39  1 43 43  1 16 26 32  3 36 41 45  1  1  1 43 45  3  1 28\n",
      " 40  1 31 41  1  1 45 45 33 42 46 45 23  1 41  1 46 46 45  1 28 14  8 31\n",
      " 32  1  3  8  6  6 32 14 17  1  1  9  6 20  1 22  2  1  6 29  4 21  1  1\n",
      " 15 24  6 11 30 36  2  1  1  3  1 26  1  1 10  1 31 28 29 28  2 29 33 20\n",
      "  4 26 11 20 29 29  6  1 22 31 12]\n",
      "maximal_number_expression_within_mse: [50 53 45 52  2 52 52 43 51 54 52  2 52 11 52 51 52 50 52 52 50 47  6 49\n",
      " 52  2 37 50 50  1 52 54  4 45 41 52 40 47 53 52 11 33  1 52 52 38  6 48\n",
      " 49  2 45 50  3  2 52 54 50 52 55 54 50  2 52  3 53 52 52  2 48 36 36 47\n",
      " 40  3 23 39 23 35 45 42 36  1  5 30 29 38  3 40 33  7 30 48 18 45  2  5\n",
      " 38 43 32 40 49 49 14  1  4 23  5 47  3  1 40  7 48 49 45 48 32 47 48 43\n",
      " 23 45 42 41 46 48 25  1 45 47 36]\n",
      "maximal_number_expression_within_mse: [55 58 57 58  3 60 58 55 57 59 59 10 58 53 57 55 58 54 59 59 56 57 48 57\n",
      " 58 39 56 57 56  1 58 60 18 55 52 59 59 53 60 59 46 49  1 56 58 54 39 56\n",
      " 55 18 57 56  5  4 56 59 57 57 59 59 58  6 58 23 59 57 59  3 56 54 53 56\n",
      " 55  9 47 53 45 51 56 54 54 27 21 48 52 55  7 53 53 34 52 58 47 51  9 42\n",
      " 51 54 47 52 58 56 35  9 29 46 45 56 23  1 51 31 56 57 54 54 49 54 58 53\n",
      " 45 53 51 56 57 54 49  1 54 56 52]\n",
      "maximal_number_expression_within_mse: [62 62 64 62 49 65 62 60 62 62 62 55 62 64 63 62 62 62 62 62 61 62 61 62\n",
      " 62 60 65 61 61  1 62 63 54 61 58 63 64 61 62 62 62 59  1 62 62 60 62 62\n",
      " 60 58 61 62 13 13 62 62 63 62 62 62 62 19 62 60 62 62 62 33 60 60 60 61\n",
      " 60 38 57 58 53 58 61 57 60 52 51 56 60 60 23 59 58 54 61 61 57 58 20 55\n",
      " 57 60 56 58 62 59 55 40 46 58 57 60 38  1 59 54 59 60 60 59 57 61 60 58\n",
      " 54 59 60 61 60 59 57  8 60 60 61]\n",
      "maximal_number_expression_within_mse: [64 65 66 65 63 66 65 65 65 65 65 66 65 65 66 65 65 63 65 65 64 64 65 65\n",
      " 65 64 65 65 64 13 66 66 59 65 62 66 66 65 65 65 65 65  3 64 65 65 64 65\n",
      " 63 62 64 66 60 63 65 65 66 65 65 65 65 57 65 64 65 65 65 57 63 64 62 63\n",
      " 63 61 60 62 58 62 63 62 64 63 58 60 62 64 55 62 63 61 62 63 62 62 54 62\n",
      " 62 63 60 62 63 63 62 58 55 62 60 62 54  8 63 61 63 62 62 62 62 63 63 61\n",
      " 58 62 62 63 63 62 64 28 62 62 63]\n",
      "maximal_number_expression_within_mse: [65 66 67 66 66 66 66 66 66 66 66 67 66 66 66 66 66 66 66 66 66 65 65 66\n",
      " 66 65 66 66 66 55 66 66 65 65 67 66 67 66 66 66 67 66 10 66 66 65 66 65\n",
      " 66 65 65 66 66 67 66 66 66 66 66 66 65 67 66 66 66 66 66 62 64 64 64 64\n",
      " 64 63 63 64 60 64 64 63 64 64 62 63 63 64 60 63 63 64 63 64 64 63 59 63\n",
      " 63 64 62 64 64 64 62 64 59 63 64 63 60 31 63 64 63 63 63 64 63 64 63 63\n",
      " 60 63 64 64 64 63 64 56 63 63 63]\n",
      "maximal_number_expression_within_mse: [67 67 67 67 67 67 67 67 67 67 67 67 67 67 67 67 67 67 67 67 67 66 65 67\n",
      " 67 66 67 67 67 64 67 67 65 66 67 67 67 67 67 67 67 67 58 67 67 65 67 66\n",
      " 67 67 66 67 67 67 67 67 67 67 67 67 66 67 67 67 67 67 67 64 64 64 64 64\n",
      " 64 64 64 64 63 64 64 64 64 64 64 64 64 64 63 64 64 64 64 64 64 64 63 64\n",
      " 64 64 64 64 64 64 64 64 62 64 64 64 60 60 64 64 64 64 64 64 64 64 64 64\n",
      " 63 64 64 64 64 64 64 62 64 64 64]\n",
      "maximal_number_expression_within_mse: [67 67 67 67 67 67 67 67 67 67 67 67 67 67 67 67 67 67 67 67 67 67 67 67\n",
      " 67 67 67 67 67 67 67 67 67 67 67 67 67 67 67 67 67 67 67 67 67 67 67 67\n",
      " 67 67 67 67 67 67 67 67 67 67 67 67 67 67 67 67 67 67 67 64 64 64 64 64\n",
      " 64 64 64 64 64 64 64 64 64 64 64 64 64 64 64 64 64 64 64 64 64 64 64 64\n",
      " 64 64 64 64 64 64 64 64 64 64 64 64 64 64 64 64 64 64 64 64 64 64 64 64\n",
      " 64 64 64 64 64 64 64 64 64 64 64]\n"
     ]
    }
   ],
   "source": [
    "import numpy as np\n",
    "\n",
    "mse_expression_array = np.array(mse_expression_list)\n",
    "with open('mse_unwrapp_texture_array_represent_one_per_category_6674443_6795937.npy', 'wb') as f:\n",
    "    np.save(f, mse_expression_list)\n",
    "\n",
    "mse_threshold_list = [2, 5, 10, 15, 20, 25, 30, 35, 40, 45, 50]\n",
    "counts_with_l2_bound_list = []\n",
    "for mse_threshold in mse_threshold_list:\n",
    "    counts = np.count_nonzero(mse_expression_array < mse_threshold, axis=1)\n",
    "    counts_with_l2_bound_list.append(counts)\n",
    "    print(f\"maximal_number_expression_within_mse: {counts}\")"
   ]
  },
  {
   "cell_type": "code",
   "execution_count": 43,
   "metadata": {},
   "outputs": [
    {
     "data": {
      "text/plain": [
       "(array([2., 0., 0., ..., 0., 0., 2.]),\n",
       " array([ 1.82006741,  1.86757287,  1.91507833, ..., 96.73598177,\n",
       "        96.78348724, 96.8309927 ]),\n",
       " <BarContainer object of 2000 artists>)"
      ]
     },
     "execution_count": 43,
     "metadata": {},
     "output_type": "execute_result"
    },
    {
     "data": {
      "image/png": "[encoded data removed]",
      "text/plain": [
       "<Figure size 640x480 with 1 Axes>"
      ]
     },
     "metadata": {},
     "output_type": "display_data"
    }
   ],
   "source": [
    "import matplotlib.pyplot as plt\n",
    "(row, col) = np.nonzero(mse_expression_list)\n",
    "mse_non_zero_expression_list = mse_expression_array[row, col]\n",
    "plt.hist(mse_non_zero_expression_list, bins=2000)"
   ]
  }
 ],
 "metadata": {
  "kernelspec": {
   "display_name": "pica37",
   "language": "python",
   "name": "python3"
  },
  "language_info": {
   "codemirror_mode": {
    "name": "ipython",
    "version": 3
   },
   "file_extension": ".py",
   "mimetype": "text/x-python",
   "name": "python",
   "nbconvert_exporter": "python",
   "pygments_lexer": "ipython3",
   "version": "3.7.16"
  }
 },
 "nbformat": 4,
 "nbformat_minor": 2
}

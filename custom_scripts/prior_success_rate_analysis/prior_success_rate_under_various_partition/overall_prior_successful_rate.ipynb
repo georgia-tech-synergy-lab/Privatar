{
 "cells": [
  {
   "cell_type": "code",
   "execution_count": 1,
   "metadata": {},
   "outputs": [
    {
     "name": "stderr",
     "output_type": "stream",
     "text": [
      "/home/jianming/conda/envs/pica37/lib/python3.7/site-packages/tqdm/auto.py:21: TqdmWarning: IProgress not found. Please update jupyter and ipywidgets. See https://ipywidgets.readthedocs.io/en/stable/user_install.html\n",
      "  from .autonotebook import tqdm as notebook_tqdm\n"
     ]
    }
   ],
   "source": [
    "import torchvision.transforms as transforms\n",
    "import torch.nn.functional as F\n",
    "import matplotlib.pyplot as plt\n",
    "from torchjpeg import dct\n",
    "from PIL import Image\n",
    "import seaborn as sns\n",
    "import numpy as np\n",
    "import torch\n",
    "import math\n",
    "import cv2\n",
    "import os"
   ]
  },
  {
   "cell_type": "markdown",
   "metadata": {},
   "source": [
    "# downsample by 1/4"
   ]
  },
  {
   "cell_type": "code",
   "execution_count": 20,
   "metadata": {},
   "outputs": [
    {
     "name": "stderr",
     "output_type": "stream",
     "text": [
      "<>:27: SyntaxWarning: assertion is always true, perhaps remove parentheses?\n",
      "<>:38: SyntaxWarning: assertion is always true, perhaps remove parentheses?\n",
      "<>:27: SyntaxWarning: assertion is always true, perhaps remove parentheses?\n",
      "<>:38: SyntaxWarning: assertion is always true, perhaps remove parentheses?\n",
      "<>:27: SyntaxWarning: assertion is always true, perhaps remove parentheses?\n",
      "<>:38: SyntaxWarning: assertion is always true, perhaps remove parentheses?\n",
      "/tmp/ipykernel_2719111/272339963.py:27: SyntaxWarning: assertion is always true, perhaps remove parentheses?\n",
      "  assert(x.shape[1] == 3, \"Wrong input, Channel should equals to 3\")\n",
      "/tmp/ipykernel_2719111/272339963.py:38: SyntaxWarning: assertion is always true, perhaps remove parentheses?\n",
      "  assert(x.shape[1] == 3, \"Wrong input, Channel should equals to 3\")\n"
     ]
    }
   ],
   "source": [
    "block_size = 4\n",
    "total_frequency_component = block_size * block_size\n",
    "\n",
    "overall_img_path_list = []\n",
    "path_prefix = \"/home/jianming/work/multiface/dataset/m--20180227--0000--6795937--GHS/unwrapped_uv_1024/\"\n",
    "all_dir = os.listdir(path_prefix)\n",
    "for sgl_dir in all_dir:\n",
    "    path_average = os.path.join(path_prefix + sgl_dir, \"average\")\n",
    "    overall_img_path_list.append(os.path.join(path_average, os.listdir(path_average)[0]))\n",
    "\n",
    "overall_img_path_list2 = []\n",
    "path_prefix2 = \"/scratch1/jianming/multiface/dataset/m--20180226--0000--6674443--GHS/unwrapped_uv_1024/\"\n",
    "all_dir = os.listdir(path_prefix2)\n",
    "for sgl_dir in all_dir:\n",
    "    path_average2 = os.path.join(path_prefix2 + sgl_dir, \"average\")\n",
    "    overall_img_path_list2.append(os.path.join(path_average2, os.listdir(path_average2)[0]))\n",
    "\n",
    "transform = transforms.Compose([\n",
    "    transforms.ToTensor()\n",
    "])\n",
    "\n",
    "downsample_components_list = []\n",
    "for img_path in overall_img_path_list:\n",
    "    image = Image.open(img_path).convert('RGB')\n",
    "    x = transform(image).unsqueeze(0)\n",
    "    x = (x + 1) / 2 * 255\n",
    "    assert(x.shape[1] == 3, \"Wrong input, Channel should equals to 3\")\n",
    "    original_in_img = dct.to_ycbcr(x)  # comvert RGB to YCBCR\n",
    "    original_in_img -= 128\n",
    "    downsample_img = transforms.Resize(size=int(original_in_img.shape[-1]/block_size))(original_in_img)\n",
    "    downsample_components_list.append(downsample_img)\n",
    "\n",
    "downsample_components_list2 = []\n",
    "for img_path in overall_img_path_list2:\n",
    "    image2 = Image.open(img_path).convert('RGB')\n",
    "    x = transform(image2).unsqueeze(0)\n",
    "    x = (x + 1) / 2 * 255\n",
    "    assert(x.shape[1] == 3, \"Wrong input, Channel should equals to 3\")\n",
    "    original_in_img2 = dct.to_ycbcr(x)  # comvert RGB to YCBCR\n",
    "    original_in_img2 -= 128\n",
    "    downsample_img2 = transforms.Resize(size=int(original_in_img2.shape[-1]/block_size))(original_in_img2)\n",
    "    downsample_components_list2.append(downsample_img2)\n",
    "\n",
    "downsample_components_overall = downsample_components_list + downsample_components_list2\n",
    "# L2 norm among highest frequency components after BDCT decomposition\n",
    "num_images = len(downsample_components_overall)\n",
    "\n",
    "l2_norm_expression_list_overall = np.zeros((len(downsample_components_overall), len(downsample_components_overall)))\n",
    "for i in range(num_images):\n",
    "    for j in range(num_images):\n",
    "        l2_norm_expression_list_overall[i][j] = np.linalg.norm(downsample_components_overall[i] - downsample_components_overall[j])\n",
    "np.save(f\"l2_norm_downsample_in_img_component.npy\", l2_norm_expression_list_overall)"
   ]
  },
  {
   "cell_type": "markdown",
   "metadata": {},
   "source": [
    "# No image downsample"
   ]
  },
  {
   "cell_type": "code",
   "execution_count": 39,
   "metadata": {},
   "outputs": [
    {
     "name": "stderr",
     "output_type": "stream",
     "text": [
      "<>:27: SyntaxWarning: assertion is always true, perhaps remove parentheses?\n",
      "<>:37: SyntaxWarning: assertion is always true, perhaps remove parentheses?\n",
      "<>:27: SyntaxWarning: assertion is always true, perhaps remove parentheses?\n",
      "<>:37: SyntaxWarning: assertion is always true, perhaps remove parentheses?\n",
      "<>:27: SyntaxWarning: assertion is always true, perhaps remove parentheses?\n",
      "<>:37: SyntaxWarning: assertion is always true, perhaps remove parentheses?\n",
      "/tmp/ipykernel_2719111/536562697.py:27: SyntaxWarning: assertion is always true, perhaps remove parentheses?\n",
      "  assert(x.shape[1] == 3, \"Wrong input, Channel should equals to 3\")\n",
      "/tmp/ipykernel_2719111/536562697.py:37: SyntaxWarning: assertion is always true, perhaps remove parentheses?\n",
      "  assert(x.shape[1] == 3, \"Wrong input, Channel should equals to 3\")\n"
     ]
    }
   ],
   "source": [
    "block_size = 4\n",
    "total_frequency_component = block_size * block_size\n",
    "\n",
    "overall_img_path_list = []\n",
    "path_prefix = \"/home/jianming/work/multiface/dataset/m--20180227--0000--6795937--GHS/unwrapped_uv_1024/\"\n",
    "all_dir = os.listdir(path_prefix)\n",
    "for sgl_dir in all_dir:\n",
    "    path_average = os.path.join(path_prefix + sgl_dir, \"average\")\n",
    "    overall_img_path_list.append(os.path.join(path_average, os.listdir(path_average)[0]))\n",
    "\n",
    "overall_img_path_list2 = []\n",
    "path_prefix2 = \"/scratch1/jianming/multiface/dataset/m--20180226--0000--6674443--GHS/unwrapped_uv_1024/\"\n",
    "all_dir = os.listdir(path_prefix2)\n",
    "for sgl_dir in all_dir:\n",
    "    path_average2 = os.path.join(path_prefix2 + sgl_dir, \"average\")\n",
    "    overall_img_path_list2.append(os.path.join(path_average2, os.listdir(path_average2)[0]))\n",
    "\n",
    "transform = transforms.Compose([\n",
    "        transforms.ToTensor()\n",
    "        ])\n",
    "\n",
    "downsample_components_list = []\n",
    "for img_path in overall_img_path_list:\n",
    "    image = Image.open(img_path).convert('RGB')\n",
    "    x = transform(image).unsqueeze(0)\n",
    "    x = (x + 1) / 2 * 255\n",
    "    assert(x.shape[1] == 3, \"Wrong input, Channel should equals to 3\")\n",
    "    original_in_img = dct.to_ycbcr(x)  # comvert RGB to YCBCR\n",
    "    original_in_img -= 128\n",
    "    downsample_components_list.append(original_in_img)\n",
    "\n",
    "downsample_components_list2 = []\n",
    "for img_path in overall_img_path_list2:\n",
    "    image2 = Image.open(img_path).convert('RGB')\n",
    "    x = transform(image2).unsqueeze(0)\n",
    "    x = (x + 1) / 2 * 255\n",
    "    assert(x.shape[1] == 3, \"Wrong input, Channel should equals to 3\")\n",
    "    original_in_img2 = dct.to_ycbcr(x)  # comvert RGB to YCBCR\n",
    "    original_in_img2 -= 128\n",
    "    downsample_components_list2.append(original_in_img2)\n",
    "\n",
    "downsample_components_overall = downsample_components_list + downsample_components_list2\n",
    "# L2 norm among highest frequency components after BDCT decomposition\n",
    "num_images = len(downsample_components_overall)\n",
    "\n",
    "l2_norm_expression_list_overall = np.zeros((len(downsample_components_overall), len(downsample_components_overall)))\n",
    "for i in range(num_images):\n",
    "    for j in range(num_images):\n",
    "        l2_norm_expression_list_overall[i][j] = np.linalg.norm(downsample_components_overall[i] - downsample_components_overall[j])\n",
    "np.save(f\"l2_norm_in_img_component.npy\", l2_norm_expression_list_overall)"
   ]
  },
  {
   "cell_type": "code",
   "execution_count": 31,
   "metadata": {},
   "outputs": [
    {
     "name": "stdout",
     "output_type": "stream",
     "text": [
      "(131, 131)\n",
      "13191.1337890625\n"
     ]
    }
   ],
   "source": [
    "print(l2_norm_expression_list_overall.shape)\n",
    "print(np.max(l2_norm_expression_list_overall))"
   ]
  },
  {
   "cell_type": "markdown",
   "metadata": {},
   "source": [
    "# For a single frequency component"
   ]
  },
  {
   "cell_type": "code",
   "execution_count": 33,
   "metadata": {},
   "outputs": [
    {
     "name": "stderr",
     "output_type": "stream",
     "text": [
      "<>:14: SyntaxWarning: assertion is always true, perhaps remove parentheses?\n",
      "<>:14: SyntaxWarning: assertion is always true, perhaps remove parentheses?\n",
      "<>:14: SyntaxWarning: assertion is always true, perhaps remove parentheses?\n",
      "/tmp/ipykernel_2719111/4009618712.py:14: SyntaxWarning: assertion is always true, perhaps remove parentheses?\n",
      "  assert(x.shape[1] == 3, \"Wrong input, Channel should equals to 3\")\n"
     ]
    }
   ],
   "source": [
    "block_size = 4\n",
    "total_frequency_component = block_size * block_size\n",
    "\n",
    "overall_img_path_list = []\n",
    "path_prefix = \"/home/jianming/work/multiface/dataset/m--20180227--0000--6795937--GHS/unwrapped_uv_1024/\"\n",
    "all_dir = os.listdir(path_prefix)\n",
    "for sgl_dir in all_dir:\n",
    "    path_average = os.path.join(path_prefix + sgl_dir, \"average\")\n",
    "    overall_img_path_list.append(os.path.join(path_average, os.listdir(path_average)[0]))\n",
    "\n",
    "\n",
    "def img_reorder(x, bs, ch, h, w):\n",
    "    x = (x + 1) / 2 * 255\n",
    "    assert(x.shape[1] == 3, \"Wrong input, Channel should equals to 3\")\n",
    "    x = dct.to_ycbcr(x)  # comvert RGB to YCBCR\n",
    "    x -= 128\n",
    "    x = x.view(bs * ch, 1, h, w)\n",
    "    x = F.unfold(x, kernel_size=(block_size, block_size), dilation=1, padding=0, stride=(block_size, block_size))\n",
    "    x = x.transpose(1, 2)\n",
    "    x = x.view(bs, ch, -1, block_size, block_size)\n",
    "    return x\n",
    "\n",
    "## Image reordering and testing\n",
    "def img_inverse_reroder(coverted_img, bs, ch, h, w):\n",
    "    x = coverted_img.view(bs* ch, -1, total_frequency_component)\n",
    "    x = x.transpose(1, 2)\n",
    "    x = F.fold(x, output_size=(h, w), kernel_size=(block_size, block_size), stride=(block_size, block_size))\n",
    "    x += 128\n",
    "    x = x.view(bs, ch, h, w)\n",
    "    x = dct.to_rgb(x)#.squeeze(0)\n",
    "    x = (x / 255.0) * 2 - 1\n",
    "    return x\n",
    "\n",
    "def calculate_block_mse(downsample_in, freq_block, num_freq_component=block_size):\n",
    "    downsample_img = transforms.Resize(size=int(downsample_in.shape[-1]/num_freq_component))(downsample_in)\n",
    "    loss_vector = torch.zeros(freq_block.shape[2])\n",
    "    for i in range(freq_block.shape[2]):\n",
    "        # calculate the MSE between each frequency components and given input downsampled images\n",
    "        loss_vector[i] = F.mse_loss(downsample_img, freq_block[:,:,i,:,:])\n",
    "    return loss_vector\n",
    "\n",
    "def bdct_4x4(img_path):\n",
    "    # The original input image comes with it and I disable it to reduce the computation overhead.\n",
    "    # x = F.interpolate(x, scale_factor=8, mode='bilinear', align_corners=True)\n",
    "    image = Image.open(img_path).convert('RGB')\n",
    "    transform = transforms.Compose([\n",
    "        transforms.ToTensor()\n",
    "    ])\n",
    "    x = transform(image).unsqueeze(0)\n",
    "\n",
    "    back_input = x\n",
    "    bs, ch, h, w = x.shape\n",
    "    block_num = h // block_size\n",
    "    x = img_reorder(x, bs, ch, h, w)\n",
    "    dct_block = dct.block_dct(x) # BDCT\n",
    "    dct_block_reorder = dct_block.view(bs, ch, block_num, block_num, total_frequency_component).permute(0, 1, 4, 2, 3) # into (bs, ch, 64, block_num, block_num)\n",
    "\n",
    "    return  dct_block_reorder\n",
    "\n",
    "\n",
    "overall_img_path_list = []\n",
    "path_prefix = \"/home/jianming/work/multiface/dataset/m--20180227--0000--6795937--GHS/unwrapped_uv_1024/\"\n",
    "all_dir = os.listdir(path_prefix)\n",
    "for sgl_dir in all_dir:\n",
    "    path_average = os.path.join(path_prefix + sgl_dir, \"average\")\n",
    "    overall_img_path_list.append(os.path.join(path_average, os.listdir(path_average)[0]))\n",
    "\n",
    "overall_img_path_list2 = []\n",
    "path_prefix2 = \"/scratch1/jianming/multiface/dataset/m--20180226--0000--6674443--GHS/unwrapped_uv_1024/\"\n",
    "all_dir = os.listdir(path_prefix2)\n",
    "for sgl_dir in all_dir:\n",
    "    path_average2 = os.path.join(path_prefix2 + sgl_dir, \"average\")\n",
    "    overall_img_path_list2.append(os.path.join(path_average2, os.listdir(path_average2)[0]))\n",
    "\n",
    "# only for outsourcing all data\n",
    "outsource_freq_base=0\n",
    "highest_frequency_components_list = []\n",
    "for img_path in overall_img_path_list:\n",
    "    img_blocks = bdct_4x4(img_path)\n",
    "    highest_frequency_components_list.append(img_blocks[:,:,outsource_freq_base:,:,:])\n",
    "\n",
    "highest_frequency_components_list2 = []\n",
    "for img_path in overall_img_path_list2:\n",
    "    img_blocks = bdct_4x4(img_path)\n",
    "    highest_frequency_components_list2.append(img_blocks[:,:,outsource_freq_base:,:,:])\n",
    "\n",
    "highest_frequency_components_overall = highest_frequency_components_list + highest_frequency_components_list2\n",
    "# L2 norm among highest frequency components after BDCT decomposition\n",
    "num_images = len(highest_frequency_components_overall)"
   ]
  },
  {
   "cell_type": "code",
   "execution_count": 37,
   "metadata": {},
   "outputs": [],
   "source": [
    "max_l2_norm_list = []\n",
    "for outsource_component_base_id in range(total_frequency_component):\n",
    "    outsource_data = np.load(f\"/home/jianming/work/Privatar_prj/prior_success_rate_analysis/prior_success_rate_under_various_partition/l2_norm_outsource_component_{total_frequency_component-outsource_component_base_id}.npy\")\n",
    "    max_l2_norm_list.append(np.max(outsource_data))"
   ]
  },
  {
   "cell_type": "code",
   "execution_count": 38,
   "metadata": {},
   "outputs": [
    {
     "data": {
      "text/plain": [
       "[13191.2470703125,\n",
       " 2338.54052734375,\n",
       " 1936.544189453125,\n",
       " 1809.600830078125,\n",
       " 1745.7357177734375,\n",
       " 1403.8924560546875,\n",
       " 1255.6917724609375,\n",
       " 1166.1475830078125,\n",
       " 1107.42822265625,\n",
       " 940.5419921875,\n",
       " 826.947265625,\n",
       " 740.544189453125,\n",
       " 671.51953125,\n",
       " 540.6065063476562,\n",
       " 419.6635437011719,\n",
       " 285.55902099609375]"
      ]
     },
     "execution_count": 38,
     "metadata": {},
     "output_type": "execute_result"
    }
   ],
   "source": [
    "max_l2_norm_list"
   ]
  },
  {
   "cell_type": "markdown",
   "metadata": {},
   "source": [
    "# Calculate Percentage of Input Falling within the L2 norm"
   ]
  },
  {
   "cell_type": "code",
   "execution_count": 57,
   "metadata": {},
   "outputs": [
    {
     "name": "stdout",
     "output_type": "stream",
     "text": [
      "[1.0, 0.31297709923664124, 0.16793893129770993, 0.11450381679389313, 0.09923664122137404, 0.022900763358778626, 0.015267175572519083, 0.015267175572519083, 0.015267175572519083, 0.015267175572519083, 0.007633587786259542, 0.007633587786259542, 0.007633587786259542, 0.007633587786259542, 0.007633587786259542, 0.007633587786259542]\n"
     ]
    }
   ],
   "source": [
    "# original data L2 norm: l2_norm_expression_list_overall\n",
    "# different outsourced components L2 norm list: max_l2_norm_list\n",
    "overall_category = l2_norm_expression_list_overall.shape[0]\n",
    "prior_successful_rate_list = []\n",
    "for l2_norm in max_l2_norm_list:\n",
    "    per_list_statistics = []\n",
    "    for i in range(l2_norm_expression_list_overall.shape[0]):\n",
    "        per_list_statistics.append(np.where(l2_norm_expression_list_overall[i,:]< l2_norm))\n",
    "\n",
    "    selective_list= []\n",
    "    for per_row in per_list_statistics:\n",
    "        selective_list.append(len(per_row[0]))\n",
    "        # print(selective_list)\n",
    "    prior_successful_rate_list.append(np.max(selective_list)/overall_category)\n",
    "print(prior_successful_rate_list)"
   ]
  },
  {
   "cell_type": "code",
   "execution_count": 60,
   "metadata": {},
   "outputs": [
    {
     "data": {
      "image/png": "[encoded data removed]",
      "text/plain": [
       "<Figure size 640x480 with 1 Axes>"
      ]
     },
     "metadata": {},
     "output_type": "display_data"
    }
   ],
   "source": [
    "import matplotlib.pyplot as plt\n",
    "(row, col) = np.nonzero(l2_norm_expression_list_overall)\n",
    "l2_norm_non_zero_expression_list_overall = l2_norm_expression_list_overall[row, col]\n",
    "\n",
    "x = [i for i in range(len(prior_successful_rate_list))]\n",
    "prior_successful_rate_list = prior_successful_rate_list[::-1]\n",
    "plt.plot(x, prior_successful_rate_list, c=\"#990000\", linewidth=1)\n",
    "\n",
    "SMALL_SIZE = 18\n",
    "MEDIUM_SIZE = 20\n",
    "BIGGER_SIZE = 22\n",
    "\n",
    "plt.ylabel(\"Prior Successful Rate\", fontsize=SMALL_SIZE)\n",
    "plt.xlabel(\"number of outsourced frequency components\", fontsize=SMALL_SIZE)\n",
    "# plt.xticks([i for i in range(int(max(tflop_list)+1))], [str(i) for i in range(int(max(tflop_list)+1))], fontsize=MEDIUM_SIZE)\n",
    "# plt.title(\"Scores by Teams in 4 Rounds\")\n",
    "\n",
    "# plt.legend([\"zcu104\", 'Alveo U280'])#, fontsize=SMALL_SIZE)\n",
    "plt.rc('font', size=BIGGER_SIZE)          # controls default text sizes\n",
    "plt.rc('axes', titlesize=BIGGER_SIZE)     # fontsize of the axes title\n",
    "plt.rc('axes', labelsize=BIGGER_SIZE)    # fontsize of the x and y labels\n",
    "plt.rc('xtick', labelsize=BIGGER_SIZE)    # fontsize of the tick labels\n",
    "plt.rc('ytick', labelsize=BIGGER_SIZE)    # fontsize of the tick labels\n",
    "plt.rc('legend', fontsize=BIGGER_SIZE)    # legend fontsize\n",
    "\n",
    "plt.savefig('prior_successful_rate.pdf', bbox_inches=\"tight\", transparent=True) \n",
    "\n",
    "plt.show()"
   ]
  }
 ],
 "metadata": {
  "kernelspec": {
   "display_name": "pica37",
   "language": "python",
   "name": "python3"
  },
  "language_info": {
   "codemirror_mode": {
    "name": "ipython",
    "version": 3
   },
   "file_extension": ".py",
   "mimetype": "text/x-python",
   "name": "python",
   "nbconvert_exporter": "python",
   "pygments_lexer": "ipython3",
   "version": "3.7.16"
  }
 },
 "nbformat": 4,
 "nbformat_minor": 2
}

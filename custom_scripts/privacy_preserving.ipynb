{
 "cells": [
  {
   "cell_type": "code",
   "execution_count": 2,
   "metadata": {},
   "outputs": [],
   "source": [
    "from PIL import Image\n",
    "import cv2\n",
    "import os\n",
    "import numpy as np\n",
    "import matplotlib.pyplot as plt\n",
    "import math"
   ]
  },
  {
   "cell_type": "markdown",
   "metadata": {},
   "source": [
    "# 1. MSE Section"
   ]
  },
  {
   "cell_type": "code",
   "execution_count": 6,
   "metadata": {},
   "outputs": [
    {
     "name": "stdout",
     "output_type": "stream",
     "text": [
      "The mean square error is 0.16669825712573674\n"
     ]
    }
   ],
   "source": [
    "# MSE calculation method\n",
    "sum = 0.0\n",
    "width = 1024\n",
    "height = 1920\n",
    "A = np.random.rand(height, width)\n",
    "B = np.random.rand(height, width)\n",
    "for x in range(height):\n",
    "    for y in range(width):\n",
    "        difference = (A[x,y] - B[x,y])\n",
    "        sum = sum + difference*difference\n",
    "mse = sum /(width*height)\n",
    "print(f\"The mean square error is {mse}\")"
   ]
  },
  {
   "cell_type": "markdown",
   "metadata": {},
   "source": [
    "### 1.1 Complete outsourcing\n",
    "Mutual Information calculation between reconstructed input images and original input images (in the baseline model)"
   ]
  },
  {
   "cell_type": "code",
   "execution_count": null,
   "metadata": {},
   "outputs": [],
   "source": [
    "# MSE calculation method\n",
    "sum = 0.0\n",
    "width = 1024\n",
    "height = 1920\n",
    "A = np.random.rand(height, width)\n",
    "B = np.random.rand(height, width)\n",
    "for x in range(height):\n",
    "    for y in range(width):\n",
    "        difference = (A[x,y] - B[x,y])\n",
    "        sum = sum + difference*difference\n",
    "mse = sum /(width*height)\n",
    "print(f\"The mean square error is {mse}\")"
   ]
  },
  {
   "cell_type": "markdown",
   "metadata": {},
   "source": [
    "### 1.2 Complete outsourcing + Noise\n",
    "Mutual Information calculation between \"reconstructed input images\" and \"original input images (in the baseline model) under noise\""
   ]
  },
  {
   "cell_type": "code",
   "execution_count": 23,
   "metadata": {},
   "outputs": [
    {
     "name": "stdout",
     "output_type": "stream",
     "text": [
      "(2048, 1334, 3)\n"
     ]
    }
   ],
   "source": [
    "total_test_image = 1\n",
    "# total_test_image = 500\n",
    "\n",
    "def calculate_mse(img1, img2):\n",
    "    sum = 0\n",
    "    height, width, channel = img1.size\n",
    "    img1 = np.asarray(img1)\n",
    "    img2 = np.asarray(img2)\n",
    "    for c in range(channel):\n",
    "        for h in range(height):\n",
    "            for w in range(width):\n",
    "                difference = (img1[x,y,c] - img2[x,y,c])\n",
    "            sum = sum + difference*difference\n",
    "    mse = sum /(width*height)\n",
    "    print(sum)\n",
    "    return mse\n",
    "\n",
    "gt_img_path = f'/home/jianming/work/Privatar_prj/testing_results/gt_val_0_{i}.png'\n",
    "gt_img = Image.open(gt_img_path)\n",
    "img1 = np.asarray(gt_img)"
   ]
  },
  {
   "cell_type": "code",
   "execution_count": 31,
   "metadata": {},
   "outputs": [
    {
     "name": "stdout",
     "output_type": "stream",
     "text": [
      "[56.54838413 38.21019812 64.2356988  60.84940525 47.05745064 43.73313465\n",
      " 42.65610225 44.0241576  60.84479135 72.7701136  50.72580653 45.48500493\n",
      " 45.9725523  54.17673256 46.42079058 56.89647083 50.91489168 37.79237737\n",
      " 75.20222689 33.85311714 63.9136445  42.93915798 29.85721031 65.57709024\n",
      " 58.01651274 36.36501634 54.48238003 72.08614248 68.66141905 37.6003579\n",
      " 48.53449984 52.0818907  38.89409909 33.65532419 66.85837721 48.97469137\n",
      " 50.10284616 52.17599428 56.09072698 28.93473393 77.43469269 38.41581455\n",
      " 35.76895244 60.45021203 44.91500026 63.74724357 74.51913838 44.23428337\n",
      " 46.64916346 62.36346817 43.71164796 36.76608266 37.48778845 52.18179802\n",
      " 44.30764354 59.31276293 36.67840372 58.03226231 35.70664399 56.92714092\n",
      " 36.71150008 44.67274541 52.7501929  74.3520071  36.03881372 66.77579399\n",
      " 40.30168168 38.05910277 40.59043415 60.68542877 71.90307568 50.22199533\n",
      " 38.11265034 53.99530398 38.94854123 33.78279476 37.67052045 45.91373088\n",
      " 59.66446586 65.22285964 32.09116413 38.57498277 67.77294897 35.58940574\n",
      " 79.61705353 35.08429647 50.02341749 63.16384984 61.04439772 65.9439582\n",
      " 71.4134538  63.21012882 42.4392174  51.86253797 40.51436599 39.46616072\n",
      " 44.21918814 33.57667956 42.37482235 31.00549249 71.35710331 35.22512791\n",
      " 46.16307227 39.56612038 59.1240116  62.51973147 39.44579151 41.18478566\n",
      " 37.68769326 47.58898212 45.41074446 32.33612893 44.2970812  57.7186613\n",
      " 50.72193151 37.75858787 66.77126512 54.55611745 35.54631034 64.97672087\n",
      " 60.24414978 41.89364693 60.63166195 55.09541408 68.1549689  50.78067924\n",
      " 78.56414151 35.50401618 38.57030738 48.12525317 66.84868808 59.24839485\n",
      " 53.4374623  34.73949183 55.06814744 38.32507343 53.48823916 41.85525731\n",
      " 44.29066424 69.68501979 41.81778386 45.5958876  66.45636056 30.95485558\n",
      " 55.05850053 29.97391234 33.38888856 44.90628319 31.84725399 63.3377303\n",
      " 35.83457795 47.40660029 30.86005484 34.94500748 52.89398013 40.94686275\n",
      " 37.28413942 44.63631722 38.50710277 65.09603999 48.58098282 34.8451525\n",
      " 45.62085888 76.08599423 61.56359467 49.35246659 63.48859762 39.5269022\n",
      " 30.77751212 52.41630332 62.34572826 72.40765762 50.11156604 29.71888482\n",
      " 41.95148129 41.82912035 58.16377444 37.24690841 60.65602172 38.07876933\n",
      " 31.42460667 43.12827656 49.73551371 50.78877907 71.34833462 43.11353832\n",
      " 50.17977169 54.68656724 38.25631032 41.24168604 48.01516466 57.49279657\n",
      " 45.5958571  39.81901151 40.46485827 29.92756783 34.86810867 50.19518622\n",
      " 38.30530401 49.9773192  45.40242525 70.05604327 58.72632971 61.02577386\n",
      " 42.54729752 47.25172924 30.37291291 58.0092394  64.56549057 44.18062087\n",
      " 35.05979444 70.1347899  62.76384879 58.06374706 70.22861616 49.60288447\n",
      " 52.71896071 39.01027977 33.19744644 38.06341971 66.72009052 51.212957\n",
      " 40.3036586  39.01949257 50.19301897 49.30596128 38.12867529 30.27218825\n",
      " 49.78876407 46.07808034 43.89507163 33.10103164 34.63987232 30.67969506\n",
      " 43.58729107 38.09998126 50.23522846 45.76033346 50.88428723 45.98919595\n",
      " 33.51474446 40.00888472 50.81286932 62.19936272 33.75067447 34.14794531\n",
      " 42.08077163 61.34955264 29.80242972 39.27951625 56.87203957 67.58805607\n",
      " 30.52836472 41.61073211 30.72520734 34.91448856 38.74824709 60.83162069\n",
      " 32.35597826 60.14794775 51.56526424 51.79899491 51.48825294 40.90891261\n",
      " 27.68786957 38.41521671 36.40135084 57.65732795 30.59050004 41.02824442\n",
      " 79.59134032 47.58144146 47.79576069 35.4962027  46.4757559  74.498521\n",
      " 59.05491078 41.78458085 64.22374201 37.29629533 61.91250444 50.01079233\n",
      " 58.98321323 35.37434335 74.06790989 79.23562633 56.10102554 44.43556725\n",
      " 69.82590297 37.60611308 66.89104898 38.44399883 49.10933022 60.5855888\n",
      " 46.64338522 77.79627435 40.21582446 65.34509662 49.05748383 34.62679695\n",
      " 66.80632914 33.63101957 41.74848806 31.20518379 28.15095528 57.71379203\n",
      " 30.59751155 58.3768798  40.41441767 70.55976321 49.07882375 70.44135891\n",
      " 33.58203991 55.21996619 36.88544656 29.95114064 65.20471271 44.36720336\n",
      " 36.31159921 73.51066105 29.84979788 37.49766242 39.42959953 50.32723641\n",
      " 37.30938901 37.55552082 35.29182931 63.70966519 68.59662344 44.66336815\n",
      " 61.69749037 64.69839177 61.6654833  73.78678483 33.62571156 48.60241888\n",
      " 71.60656683 70.30785547 51.22543635 48.38243    49.83532709 31.53221314\n",
      " 59.46518111 51.1274813  65.55396545 29.01996573 66.03330903 72.96688704\n",
      " 64.26775284 39.83122904 32.51223692 59.47641267 45.14386435 43.21715644\n",
      " 76.93066662 74.45496722 44.2337896  60.95341062 65.47503592 45.05188336\n",
      " 50.44962175 39.98653383 66.9703909  66.13248966 44.9565609  36.07174135\n",
      " 70.74724052 42.03430524 67.54290884 37.45397919 31.90070956 40.9231611\n",
      " 45.80972343 47.54212994 50.30872467 68.16545633 47.27545614 60.06606706\n",
      " 54.26375338 30.84327685 58.63342865 52.04776884 43.34646007 55.47679688\n",
      " 39.16013685 57.96703516 47.81998466 30.23659118 40.87635992 62.60012889\n",
      " 56.3774142  51.53121742 36.64114818 60.48415953 56.61013805 60.63229811\n",
      " 62.3733364  63.4558419  49.95628309 35.75979735 36.94464926 54.17555065\n",
      " 36.74371188 49.60777436 48.12374989 66.83565615 61.89657161 50.3746197\n",
      " 67.05001942 47.728801   65.9569262  60.89432579 51.65197833 42.99294274\n",
      " 54.96102779 36.4483254  28.78170912 49.35572216 39.31308223 52.08054054\n",
      " 51.5013393  54.21279021 47.49366662 36.78241263 71.78169082 31.79204831\n",
      " 38.43556335 60.3796028  46.96424346 61.89250602 32.93843728 73.83012473\n",
      " 53.0262758  51.03873661 45.88274161 51.67998496 65.41510409 40.58724922\n",
      " 38.14402003 73.93007561 52.44020983 66.12204615 70.25502666 72.67481372\n",
      " 36.10802167 30.28478254 53.96645537 70.09231688 77.2856682  48.58802227\n",
      " 72.28680191 28.66236279 34.31925517 41.97283085 53.59875433 35.07223524\n",
      " 40.98473688 33.77831324 46.20411462 58.28285552 46.83976725 58.39832476\n",
      " 53.5712876  65.73032161 57.41394293 59.61218195 34.09417081 44.67420757\n",
      " 34.23823989 30.33534551 58.23186441 60.87738431 37.34825678 64.00783788\n",
      " 52.404001   62.23789436 74.46155377 46.1299853  75.12942906 50.38324563\n",
      " 59.08333626 42.6216905  66.01306354 61.87418339 54.02546505 48.65889955\n",
      " 33.34411957 50.43356471 48.2184124  60.21917776 46.3862484  43.72391404\n",
      " 34.76734606 52.23638205 48.84394863 37.24399824 37.06498228 75.63405846\n",
      " 61.76426923 35.80154674]\n",
      "49.73053666843336\n"
     ]
    }
   ],
   "source": [
    "total_test_image = 500\n",
    "\n",
    "def calculate_mse(img1, img2):\n",
    "    sum = 0\n",
    "    img1 = np.asarray(img1)\n",
    "    img2 = np.asarray(img2)\n",
    "    diff = img1 - img2\n",
    "    overall_result = np.square(diff)\n",
    "    mse = np.mean(overall_result)\n",
    "    return mse\n",
    "\n",
    "mse_list = np.zeros(total_test_image)\n",
    "for i in range(total_test_image):\n",
    "    gt_img_path = f'/home/jianming/work/Privatar_prj/testing_results/gt_val_0_{i}.png'\n",
    "    # gt_val_img_path = f'/home/jianming/work/Privatar_prj/testing_results/gt_val_0_{i}.png'\n",
    "    gt_val_img_path = f'/home/jianming/work/Privatar_prj/testing_results/pred_val_0_{i}.png'\n",
    "    gt_img = Image.open(gt_img_path)\n",
    "    gt_val_img = Image.open(gt_val_img_path)\n",
    "    mse_list[i] = calculate_mse(gt_img, gt_val_img)\n",
    "print(mse_list)\n",
    "print(np.mean(mse_list))"
   ]
  },
  {
   "cell_type": "markdown",
   "metadata": {},
   "source": [
    "### 1.3 Partitioning Only"
   ]
  },
  {
   "cell_type": "code",
   "execution_count": null,
   "metadata": {},
   "outputs": [],
   "source": [
    "total_test_image = 500\n",
    "\n",
    "def calculate_mse(img1, img2):\n",
    "    sum = 0\n",
    "    img1 = np.asarray(img1)\n",
    "    img2 = np.asarray(img2)\n",
    "    diff = img1 - img2\n",
    "    overall_result = np.square(diff)\n",
    "    mse = np.mean(overall_result)\n",
    "    return mse\n",
    "\n",
    "mse_list = np.zeros(total_test_image)\n",
    "for i in range(total_test_image):\n",
    "    gt_img_path = f'/home/jianming/work/Privatar_prj/testing_results/gt_val_0_{i}.png'\n",
    "    gt_val_img_path = f'/home/jianming/work/Privatar_prj/testing_results/pred_val_0_{i}.png'\n",
    "    gt_img = Image.open(gt_img_path)\n",
    "    gt_val_img = Image.open(gt_val_img_path)\n",
    "    mse_list[i] = calculate_mse(gt_img, gt_val_img)\n",
    "print(mse_list)\n",
    "print(np.mean(mse_list))"
   ]
  },
  {
   "cell_type": "markdown",
   "metadata": {},
   "source": [
    "### 1.3 Partitioning + Noisy latent code"
   ]
  },
  {
   "cell_type": "markdown",
   "metadata": {},
   "source": []
  },
  {
   "cell_type": "markdown",
   "metadata": {},
   "source": [
    "# 2. Mutual Information"
   ]
  },
  {
   "cell_type": "markdown",
   "metadata": {},
   "source": [
    "### 2.1 Complete outsourcing"
   ]
  },
  {
   "cell_type": "code",
   "execution_count": null,
   "metadata": {},
   "outputs": [],
   "source": []
  },
  {
   "cell_type": "markdown",
   "metadata": {},
   "source": [
    "### 2.2 Complete outsourcing + Noise"
   ]
  },
  {
   "cell_type": "code",
   "execution_count": null,
   "metadata": {},
   "outputs": [],
   "source": []
  },
  {
   "cell_type": "markdown",
   "metadata": {},
   "source": [
    "### 2.3 Partitioning Only"
   ]
  },
  {
   "cell_type": "code",
   "execution_count": null,
   "metadata": {},
   "outputs": [],
   "source": []
  },
  {
   "cell_type": "markdown",
   "metadata": {},
   "source": [
    "### 2.4 Partitioning + Noisy Latent Code"
   ]
  },
  {
   "cell_type": "markdown",
   "metadata": {},
   "source": []
  }
 ],
 "metadata": {
  "kernelspec": {
   "display_name": "pica37",
   "language": "python",
   "name": "python3"
  },
  "language_info": {
   "codemirror_mode": {
    "name": "ipython",
    "version": 3
   },
   "file_extension": ".py",
   "mimetype": "text/x-python",
   "name": "python",
   "nbconvert_exporter": "python",
   "pygments_lexer": "ipython3",
   "version": "3.7.16"
  }
 },
 "nbformat": 4,
 "nbformat_minor": 2
}
